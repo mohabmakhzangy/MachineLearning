{
 "cells": [
  {
   "cell_type": "markdown",
   "id": "5a8428b3",
   "metadata": {},
   "source": [
    "Python Libraries Used"
   ]
  },
  {
   "cell_type": "code",
   "execution_count": 18,
   "id": "0713d3ff",
   "metadata": {},
   "outputs": [],
   "source": [
    "import pandas as pd\n",
    "import matplotlib.pyplot as plt\n",
    "import numpy as np\n",
    "import seaborn as sns\n",
    "from sklearn.model_selection import train_test_split\n",
    "from sklearn.neighbors import KNeighborsClassifier\n",
    "from sklearn.naive_bayes import GaussianNB\n",
    "from sklearn.linear_model import LogisticRegression\n",
    "from sklearn.neural_network import MLPClassifier\n",
    "from sklearn.metrics import accuracy_score\n",
    "from sklearn.model_selection import StratifiedKFold\n",
    "from sklearn.model_selection import KFold\n",
    "from sklearn.metrics import confusion_matrix\n",
    "from sklearn.metrics import roc_curve, auc\n",
    "from sklearn.preprocessing import label_binarize\n",
    "from matplotlib.cm import get_cmap\n",
    "from sklearn.preprocessing import LabelEncoder\n",
    "from sklearn.model_selection import cross_val_score\n",
    "from sklearn.metrics import plot_roc_curve\n",
    "from sklearn.model_selection import learning_curve\n",
    "from sklearn.preprocessing import StandardScaler\n"
   ]
  },
  {
   "cell_type": "code",
   "execution_count": 9,
   "id": "20ec9039",
   "metadata": {},
   "outputs": [
    {
     "name": "stdout",
     "output_type": "stream",
     "text": [
      "Fatal: 0\n",
      "Serious: 1\n",
      "Slight: 2\n"
     ]
    }
   ],
   "source": [
    "df= pd.read_csv(r\"C:\\Users\\MostafaShehab\\Desktop\\Machine Learning\\ML Project\\mydata.csv\")\n",
    "df.drop(\"time\", axis=1, inplace=True)\n",
    "Features = df.drop(\"accident_severity\", axis=1)  \n",
    "Y = df[\"accident_severity\"]\n",
    "label_encoder = LabelEncoder()\n",
    "TargetVariable = label_encoder.fit_transform(df[\"accident_severity\"])\n",
    "#--------------------------------------------------------------------------------------------------------------------------\n",
    "unique_labels = label_encoder.classes_\n",
    "numeric_values = label_encoder.transform(unique_labels)\n",
    "# Print the categorical values along with their corresponding numeric values\n",
    "for label, numeric_value in zip(unique_labels, numeric_values):\n",
    "    print(f\"{label}: {numeric_value}\")\n"
   ]
  },
  {
   "cell_type": "markdown",
   "id": "75cc5e8b",
   "metadata": {},
   "source": [
    "To classify the severity of accidents, the \"accident_severity\" column provides crucial information regarding the outcome of each accident. This variable typically contains categorical values that indicate different levels of severity, such as \"Fatal,\" \"Slight,\" and \"Serious.\" By analyzing the patterns and relationships between the accident features and the corresponding severity levels, we can develop a predictive model that accurately classifies the severity of future accidents."
   ]
  },
  {
   "cell_type": "markdown",
   "id": "aa58b372",
   "metadata": {},
   "source": [
    "# Comparison between models without diagnostics"
   ]
  },
  {
   "cell_type": "code",
   "execution_count": 41,
   "id": "06aad731",
   "metadata": {},
   "outputs": [],
   "source": [
    "def knn(Features, TargetVariable):\n",
    "    knn = KNeighborsClassifier()\n",
    "    training_set_x, testing_set_x, training_set_y, testing_set_y = train_test_split(Features, TargetVariable, test_size=0.30, random_state=42)\n",
    "    knn.fit(training_set_x, training_set_y)\n",
    "    y_pred = knn.predict(testing_set_x)\n",
    "    classification_score = accuracy_score(testing_set_y, y_pred)\n",
    "    return classification_score\n",
    "\n",
    "def naive(Features, TargetVariable):\n",
    "    naive_bayes = GaussianNB()\n",
    "    training_set_x, testing_set_x, training_set_y, testing_set_y = train_test_split(Features, TargetVariable, test_size=0.30, random_state=42)\n",
    "    naive_bayes.fit(training_set_x, training_set_y)\n",
    "    y_pred = naive_bayes.predict(testing_set_x)\n",
    "    classification_score = accuracy_score(testing_set_y, y_pred)\n",
    "    return classification_score\n",
    "\n",
    "def logistic_regression(Features, TargetVariable):\n",
    "    logistic_regression = LogisticRegression()\n",
    "    training_set_x, testing_set_x, training_set_y, testing_set_y = train_test_split(Features, TargetVariable, test_size=0.30, random_state=42)\n",
    "    logistic_regression.fit(training_set_x, training_set_y)\n",
    "    y_pred = logistic_regression.predict(testing_set_x)\n",
    "    classification_score = accuracy_score(testing_set_y, y_pred)\n",
    "    return classification_score\n",
    "\n",
    "def neural_networks(Features, TargetVariable):\n",
    "    neural_networks = MLPClassifier()\n",
    "    training_set_x, testing_set_x, training_set_y, testing_set_y = train_test_split(Features, TargetVariable, test_size=0.30, random_state=42)\n",
    "    neural_networks.fit(training_set_x, training_set_y)\n",
    "    y_pred = neural_networks.predict(testing_set_x)\n",
    "    classification_score = accuracy_score(testing_set_y, y_pred)\n",
    "    return classification_score\n",
    "\n",
    "\n",
    "\n"
   ]
  },
  {
   "cell_type": "code",
   "execution_count": 7,
   "id": "b5acbb6b",
   "metadata": {},
   "outputs": [
    {
     "data": {
      "text/plain": [
       "0.8247435671261877"
      ]
     },
     "execution_count": 7,
     "metadata": {},
     "output_type": "execute_result"
    }
   ],
   "source": [
    "knn(Features,TargetVariable)"
   ]
  },
  {
   "cell_type": "code",
   "execution_count": 8,
   "id": "026d9d10",
   "metadata": {},
   "outputs": [
    {
     "data": {
      "text/plain": [
       "0.7371153506892815"
      ]
     },
     "execution_count": 8,
     "metadata": {},
     "output_type": "execute_result"
    }
   ],
   "source": [
    "naive(Features, TargetVariable)"
   ]
  },
  {
   "cell_type": "code",
   "execution_count": 9,
   "id": "704f554f",
   "metadata": {},
   "outputs": [
    {
     "name": "stderr",
     "output_type": "stream",
     "text": [
      "C:\\ProgramData\\Anaconda3\\lib\\site-packages\\sklearn\\linear_model\\_logistic.py:814: ConvergenceWarning: lbfgs failed to converge (status=1):\n",
      "STOP: TOTAL NO. of ITERATIONS REACHED LIMIT.\n",
      "\n",
      "Increase the number of iterations (max_iter) or scale the data as shown in:\n",
      "    https://scikit-learn.org/stable/modules/preprocessing.html\n",
      "Please also refer to the documentation for alternative solver options:\n",
      "    https://scikit-learn.org/stable/modules/linear_model.html#logistic-regression\n",
      "  n_iter_i = _check_optimize_result(\n"
     ]
    },
    {
     "data": {
      "text/plain": [
       "0.8472491746263767"
      ]
     },
     "execution_count": 9,
     "metadata": {},
     "output_type": "execute_result"
    }
   ],
   "source": [
    "logistic_regression(Features, TargetVariable)"
   ]
  },
  {
   "cell_type": "code",
   "execution_count": 10,
   "id": "9d70860a",
   "metadata": {},
   "outputs": [
    {
     "data": {
      "text/plain": [
       "0.846543511681242"
      ]
     },
     "execution_count": 10,
     "metadata": {},
     "output_type": "execute_result"
    }
   ],
   "source": [
    "neural_networks(Features, TargetVariable)"
   ]
  },
  {
   "cell_type": "markdown",
   "id": "4cc4b3c5",
   "metadata": {},
   "source": [
    "# Results:\n",
    "* The classification models were evaluated using four different algorithms: KNN, Naive Bayes, Logistic Regression, and Neural Network. The accuracies achieved by these models are as follows: KNN - 83%, Naive Bayes - 73%, Logistic Regression - 85%, and Neural Network - 85%.\n",
    "\n",
    "* Among the four models, Naive Bayes yielded the lowest accuracy. This can be attributed to the model's difficulty in capturing complex relationships between features, especially when they are interdependent. It is worth noting that the accuracy of Naive Bayes improved from 46% to 73% after normalizing some columns, indicating its sensitivity to normalization techniques.\n",
    "\n",
    "* KNN, Logistic Regression, and Neural Network displayed comparable performances, obtaining accuracies around 84%. When the relationship between the features and the target variable is roughly linear, the well-known linear classifier logistic regression performs well.\n",
    "\n",
    "* Neural Networks, on the other hand, are powerful models capable of identifying intricate patterns and correlations within data. Their ability to detect complex relationships makes them suitable for capturing nuanced information and achieving high accuracy.\n",
    "\n",
    "* KNN, known for its simplicity, is a robust classification method that excels in capturing local patterns within the dataset. By considering the neighboring instances, KNN is able to make accurate predictions based on the local characteristics of the data."
   ]
  },
  {
   "cell_type": "markdown",
   "id": "248ec171",
   "metadata": {},
   "source": [
    "------------------------------------------------------------------------------------------------------------------------------"
   ]
  },
  {
   "cell_type": "markdown",
   "id": "e8bc5175",
   "metadata": {},
   "source": [
    "# Comparison between models with diagnostics"
   ]
  },
  {
   "cell_type": "markdown",
   "id": "f5f7dd83",
   "metadata": {},
   "source": [
    "# Kfold - KNN"
   ]
  },
  {
   "cell_type": "code",
   "execution_count": 31,
   "id": "c7f1ab32",
   "metadata": {},
   "outputs": [],
   "source": [
    "def knn_Kfold_validation(X,Y):\n",
    "    #cv=50 ...> K Value = 50\n",
    "    classifier_method = KNeighborsClassifier()\n",
    "    scores = cross_val_score(classifier_method, X, Y, cv=50)\n",
    "    # Print the accuracy for each fold\n",
    "    for fold, score in enumerate(scores, 1):\n",
    "        print(f\"Fold {fold} Accuracy: {score}\")    \n",
    "    # Calculate the Mean Accuracy\n",
    "    classification_score = scores.mean()\n",
    "    print(\"Accuracy:\", classification_score)\n"
   ]
  },
  {
   "cell_type": "code",
   "execution_count": 32,
   "id": "2fdac248",
   "metadata": {},
   "outputs": [
    {
     "name": "stdout",
     "output_type": "stream",
     "text": [
      "Fold 1 Accuracy: 0.8371126228269086\n",
      "Fold 2 Accuracy: 0.8197278911564626\n",
      "Fold 3 Accuracy: 0.8337112622826909\n",
      "Fold 4 Accuracy: 0.8030990173847317\n",
      "Fold 5 Accuracy: 0.8382464096749811\n",
      "Fold 6 Accuracy: 0.8216175359032502\n",
      "Fold 7 Accuracy: 0.8352229780801209\n",
      "Fold 8 Accuracy: 0.8321995464852607\n",
      "Fold 9 Accuracy: 0.8246409674981103\n",
      "Fold 10 Accuracy: 0.8053665910808768\n",
      "Fold 11 Accuracy: 0.8269085411942555\n",
      "Fold 12 Accuracy: 0.8284202569916855\n",
      "Fold 13 Accuracy: 0.8253968253968254\n",
      "Fold 14 Accuracy: 0.8136105860113422\n",
      "Fold 15 Accuracy: 0.8431001890359168\n",
      "Fold 16 Accuracy: 0.8362948960302458\n",
      "Fold 17 Accuracy: 0.819281663516068\n",
      "Fold 18 Accuracy: 0.8310018903591683\n",
      "Fold 19 Accuracy: 0.8245746691871455\n",
      "Fold 20 Accuracy: 0.8291115311909263\n",
      "Fold 21 Accuracy: 0.8283553875236295\n",
      "Fold 22 Accuracy: 0.8173913043478261\n",
      "Fold 23 Accuracy: 0.8340264650283554\n",
      "Fold 24 Accuracy: 0.8238185255198488\n",
      "Fold 25 Accuracy: 0.8215500945179585\n",
      "Fold 26 Accuracy: 0.8260869565217391\n",
      "Fold 27 Accuracy: 0.8215500945179585\n",
      "Fold 28 Accuracy: 0.831758034026465\n",
      "Fold 29 Accuracy: 0.8298676748582231\n",
      "Fold 30 Accuracy: 0.8128544423440454\n",
      "Fold 31 Accuracy: 0.819281663516068\n",
      "Fold 32 Accuracy: 0.8253308128544423\n",
      "Fold 33 Accuracy: 0.8090737240075614\n",
      "Fold 34 Accuracy: 0.8196597353497165\n",
      "Fold 35 Accuracy: 0.8219281663516068\n",
      "Fold 36 Accuracy: 0.8207939508506616\n",
      "Fold 37 Accuracy: 0.826843100189036\n",
      "Fold 38 Accuracy: 0.8347826086956521\n",
      "Fold 39 Accuracy: 0.814366729678639\n",
      "Fold 40 Accuracy: 0.8306238185255198\n",
      "Fold 41 Accuracy: 0.8155009451795842\n",
      "Fold 42 Accuracy: 0.8079395085066162\n",
      "Fold 43 Accuracy: 0.8283553875236295\n",
      "Fold 44 Accuracy: 0.8196597353497165\n",
      "Fold 45 Accuracy: 0.8132325141776937\n",
      "Fold 46 Accuracy: 0.823062381852552\n",
      "Fold 47 Accuracy: 0.8173913043478261\n",
      "Fold 48 Accuracy: 0.8109640831758034\n",
      "Fold 49 Accuracy: 0.8310018903591683\n",
      "Fold 50 Accuracy: 0.8189035916824197\n",
      "Accuracy: 0.8236920100533388\n"
     ]
    }
   ],
   "source": [
    "knn_Kfold_validation(Features,TargetVariable)"
   ]
  },
  {
   "cell_type": "markdown",
   "id": "090527b7",
   "metadata": {},
   "source": [
    "# Kfold - Naive  Bay"
   ]
  },
  {
   "cell_type": "code",
   "execution_count": 33,
   "id": "4a72fad7",
   "metadata": {},
   "outputs": [],
   "source": [
    "from sklearn.naive_bayes import GaussianNB\n",
    "from sklearn.model_selection import cross_val_score\n",
    "\n",
    "def Naive_Kfold_validation(X, Y):\n",
    "    #cv=50 ...> K Value = 50\n",
    "    classifier_method = GaussianNB()\n",
    "    scores = cross_val_score(classifier_method, X, Y, cv=50)\n",
    "    # Print the accuracy for each fold\n",
    "    for fold, score in enumerate(scores, 1):\n",
    "        print(f\"Fold {fold} Accuracy: {score}\")    \n",
    "    # Calculate and Print the Mean Accuracy\n",
    "    classification_score = scores.mean()\n",
    "    print(\"Accuracy:\", classification_score)\n"
   ]
  },
  {
   "cell_type": "code",
   "execution_count": 34,
   "id": "2ecc9ca1",
   "metadata": {},
   "outputs": [
    {
     "name": "stdout",
     "output_type": "stream",
     "text": [
      "Fold 1 Accuracy: 0.8458049886621315\n",
      "Fold 2 Accuracy: 0.8458049886621315\n",
      "Fold 3 Accuracy: 0.8337112622826909\n",
      "Fold 4 Accuracy: 0.8416477702191988\n",
      "Fold 5 Accuracy: 0.8469387755102041\n",
      "Fold 6 Accuracy: 0.8427815570672713\n",
      "Fold 7 Accuracy: 0.8442932728647015\n",
      "Fold 8 Accuracy: 0.8325774754346182\n",
      "Fold 9 Accuracy: 0.717687074829932\n",
      "Fold 10 Accuracy: 0.7426303854875284\n",
      "Fold 11 Accuracy: 0.7120181405895691\n",
      "Fold 12 Accuracy: 0.8563869992441421\n",
      "Fold 13 Accuracy: 0.7917611489040061\n",
      "Fold 14 Accuracy: 0.6525519848771266\n",
      "Fold 15 Accuracy: 0.7130434782608696\n",
      "Fold 16 Accuracy: 0.6574669187145558\n",
      "Fold 17 Accuracy: 0.6854442344045368\n",
      "Fold 18 Accuracy: 0.7550094517958412\n",
      "Fold 19 Accuracy: 0.7353497164461248\n",
      "Fold 20 Accuracy: 0.7315689981096408\n",
      "Fold 21 Accuracy: 0.8139886578449905\n",
      "Fold 22 Accuracy: 0.8389413988657844\n",
      "Fold 23 Accuracy: 0.722117202268431\n",
      "Fold 24 Accuracy: 0.6827977315689981\n",
      "Fold 25 Accuracy: 0.57882797731569\n",
      "Fold 26 Accuracy: 0.6911153119092628\n",
      "Fold 27 Accuracy: 0.6827977315689981\n",
      "Fold 28 Accuracy: 0.6703213610586012\n",
      "Fold 29 Accuracy: 0.6412098298676748\n",
      "Fold 30 Accuracy: 0.6223062381852552\n",
      "Fold 31 Accuracy: 0.6733459357277882\n",
      "Fold 32 Accuracy: 0.6703213610586012\n",
      "Fold 33 Accuracy: 0.6820415879017013\n",
      "Fold 34 Accuracy: 0.6245746691871455\n",
      "Fold 35 Accuracy: 0.6835538752362949\n",
      "Fold 36 Accuracy: 0.6899810964083176\n",
      "Fold 37 Accuracy: 0.667296786389414\n",
      "Fold 38 Accuracy: 0.6733459357277882\n",
      "Fold 39 Accuracy: 0.6268431001890359\n",
      "Fold 40 Accuracy: 0.681663516068053\n",
      "Fold 41 Accuracy: 0.6982986767485823\n",
      "Fold 42 Accuracy: 0.6642722117202269\n",
      "Fold 43 Accuracy: 0.7338374291115312\n",
      "Fold 44 Accuracy: 0.6737240075614367\n",
      "Fold 45 Accuracy: 0.6223062381852552\n",
      "Fold 46 Accuracy: 0.6956521739130435\n",
      "Fold 47 Accuracy: 0.5126654064272211\n",
      "Fold 48 Accuracy: 0.5202268431001891\n",
      "Fold 49 Accuracy: 0.3206049149338374\n",
      "Fold 50 Accuracy: 0.6090737240075614\n",
      "Accuracy: 0.7030506310484707\n"
     ]
    }
   ],
   "source": [
    "Naive_Kfold_validation(Features, TargetVariable)"
   ]
  },
  {
   "cell_type": "markdown",
   "id": "3ee8da69",
   "metadata": {},
   "source": [
    "# Kfold - Logistic Regression"
   ]
  },
  {
   "cell_type": "code",
   "execution_count": 35,
   "id": "73787608",
   "metadata": {},
   "outputs": [],
   "source": [
    "def logistic_Kfold_validation(X, Y):\n",
    "    #cv=50 ...> K Value = 50\n",
    "    classifier_method = LogisticRegression()\n",
    "    scores = cross_val_score(classifier_method, X, Y, cv=50)\n",
    "    # Print the accuracy for each fold\n",
    "    for fold, score in enumerate(scores, 1):\n",
    "        print(f\"Fold {fold} Accuracy: {score}\")\n",
    "    # Calculate and Print the Mean Accuracy\n",
    "    classification_score = scores.mean()\n",
    "    print(\"Accuracy:\", classification_score)"
   ]
  },
  {
   "cell_type": "code",
   "execution_count": 36,
   "id": "be4e13d0",
   "metadata": {},
   "outputs": [
    {
     "name": "stderr",
     "output_type": "stream",
     "text": [
      "C:\\ProgramData\\Anaconda3\\lib\\site-packages\\sklearn\\linear_model\\_logistic.py:814: ConvergenceWarning: lbfgs failed to converge (status=1):\n",
      "STOP: TOTAL NO. of ITERATIONS REACHED LIMIT.\n",
      "\n",
      "Increase the number of iterations (max_iter) or scale the data as shown in:\n",
      "    https://scikit-learn.org/stable/modules/preprocessing.html\n",
      "Please also refer to the documentation for alternative solver options:\n",
      "    https://scikit-learn.org/stable/modules/linear_model.html#logistic-regression\n",
      "  n_iter_i = _check_optimize_result(\n",
      "C:\\ProgramData\\Anaconda3\\lib\\site-packages\\sklearn\\linear_model\\_logistic.py:814: ConvergenceWarning: lbfgs failed to converge (status=1):\n",
      "STOP: TOTAL NO. of ITERATIONS REACHED LIMIT.\n",
      "\n",
      "Increase the number of iterations (max_iter) or scale the data as shown in:\n",
      "    https://scikit-learn.org/stable/modules/preprocessing.html\n",
      "Please also refer to the documentation for alternative solver options:\n",
      "    https://scikit-learn.org/stable/modules/linear_model.html#logistic-regression\n",
      "  n_iter_i = _check_optimize_result(\n",
      "C:\\ProgramData\\Anaconda3\\lib\\site-packages\\sklearn\\linear_model\\_logistic.py:814: ConvergenceWarning: lbfgs failed to converge (status=1):\n",
      "STOP: TOTAL NO. of ITERATIONS REACHED LIMIT.\n",
      "\n",
      "Increase the number of iterations (max_iter) or scale the data as shown in:\n",
      "    https://scikit-learn.org/stable/modules/preprocessing.html\n",
      "Please also refer to the documentation for alternative solver options:\n",
      "    https://scikit-learn.org/stable/modules/linear_model.html#logistic-regression\n",
      "  n_iter_i = _check_optimize_result(\n",
      "C:\\ProgramData\\Anaconda3\\lib\\site-packages\\sklearn\\linear_model\\_logistic.py:814: ConvergenceWarning: lbfgs failed to converge (status=1):\n",
      "STOP: TOTAL NO. of ITERATIONS REACHED LIMIT.\n",
      "\n",
      "Increase the number of iterations (max_iter) or scale the data as shown in:\n",
      "    https://scikit-learn.org/stable/modules/preprocessing.html\n",
      "Please also refer to the documentation for alternative solver options:\n",
      "    https://scikit-learn.org/stable/modules/linear_model.html#logistic-regression\n",
      "  n_iter_i = _check_optimize_result(\n",
      "C:\\ProgramData\\Anaconda3\\lib\\site-packages\\sklearn\\linear_model\\_logistic.py:814: ConvergenceWarning: lbfgs failed to converge (status=1):\n",
      "STOP: TOTAL NO. of ITERATIONS REACHED LIMIT.\n",
      "\n",
      "Increase the number of iterations (max_iter) or scale the data as shown in:\n",
      "    https://scikit-learn.org/stable/modules/preprocessing.html\n",
      "Please also refer to the documentation for alternative solver options:\n",
      "    https://scikit-learn.org/stable/modules/linear_model.html#logistic-regression\n",
      "  n_iter_i = _check_optimize_result(\n",
      "C:\\ProgramData\\Anaconda3\\lib\\site-packages\\sklearn\\linear_model\\_logistic.py:814: ConvergenceWarning: lbfgs failed to converge (status=1):\n",
      "STOP: TOTAL NO. of ITERATIONS REACHED LIMIT.\n",
      "\n",
      "Increase the number of iterations (max_iter) or scale the data as shown in:\n",
      "    https://scikit-learn.org/stable/modules/preprocessing.html\n",
      "Please also refer to the documentation for alternative solver options:\n",
      "    https://scikit-learn.org/stable/modules/linear_model.html#logistic-regression\n",
      "  n_iter_i = _check_optimize_result(\n",
      "C:\\ProgramData\\Anaconda3\\lib\\site-packages\\sklearn\\linear_model\\_logistic.py:814: ConvergenceWarning: lbfgs failed to converge (status=1):\n",
      "STOP: TOTAL NO. of ITERATIONS REACHED LIMIT.\n",
      "\n",
      "Increase the number of iterations (max_iter) or scale the data as shown in:\n",
      "    https://scikit-learn.org/stable/modules/preprocessing.html\n",
      "Please also refer to the documentation for alternative solver options:\n",
      "    https://scikit-learn.org/stable/modules/linear_model.html#logistic-regression\n",
      "  n_iter_i = _check_optimize_result(\n",
      "C:\\ProgramData\\Anaconda3\\lib\\site-packages\\sklearn\\linear_model\\_logistic.py:814: ConvergenceWarning: lbfgs failed to converge (status=1):\n",
      "STOP: TOTAL NO. of ITERATIONS REACHED LIMIT.\n",
      "\n",
      "Increase the number of iterations (max_iter) or scale the data as shown in:\n",
      "    https://scikit-learn.org/stable/modules/preprocessing.html\n",
      "Please also refer to the documentation for alternative solver options:\n",
      "    https://scikit-learn.org/stable/modules/linear_model.html#logistic-regression\n",
      "  n_iter_i = _check_optimize_result(\n",
      "C:\\ProgramData\\Anaconda3\\lib\\site-packages\\sklearn\\linear_model\\_logistic.py:814: ConvergenceWarning: lbfgs failed to converge (status=1):\n",
      "STOP: TOTAL NO. of ITERATIONS REACHED LIMIT.\n",
      "\n",
      "Increase the number of iterations (max_iter) or scale the data as shown in:\n",
      "    https://scikit-learn.org/stable/modules/preprocessing.html\n",
      "Please also refer to the documentation for alternative solver options:\n",
      "    https://scikit-learn.org/stable/modules/linear_model.html#logistic-regression\n",
      "  n_iter_i = _check_optimize_result(\n",
      "C:\\ProgramData\\Anaconda3\\lib\\site-packages\\sklearn\\linear_model\\_logistic.py:814: ConvergenceWarning: lbfgs failed to converge (status=1):\n",
      "STOP: TOTAL NO. of ITERATIONS REACHED LIMIT.\n",
      "\n",
      "Increase the number of iterations (max_iter) or scale the data as shown in:\n",
      "    https://scikit-learn.org/stable/modules/preprocessing.html\n",
      "Please also refer to the documentation for alternative solver options:\n",
      "    https://scikit-learn.org/stable/modules/linear_model.html#logistic-regression\n",
      "  n_iter_i = _check_optimize_result(\n",
      "C:\\ProgramData\\Anaconda3\\lib\\site-packages\\sklearn\\linear_model\\_logistic.py:814: ConvergenceWarning: lbfgs failed to converge (status=1):\n",
      "STOP: TOTAL NO. of ITERATIONS REACHED LIMIT.\n",
      "\n",
      "Increase the number of iterations (max_iter) or scale the data as shown in:\n",
      "    https://scikit-learn.org/stable/modules/preprocessing.html\n",
      "Please also refer to the documentation for alternative solver options:\n",
      "    https://scikit-learn.org/stable/modules/linear_model.html#logistic-regression\n",
      "  n_iter_i = _check_optimize_result(\n",
      "C:\\ProgramData\\Anaconda3\\lib\\site-packages\\sklearn\\linear_model\\_logistic.py:814: ConvergenceWarning: lbfgs failed to converge (status=1):\n",
      "STOP: TOTAL NO. of ITERATIONS REACHED LIMIT.\n",
      "\n",
      "Increase the number of iterations (max_iter) or scale the data as shown in:\n",
      "    https://scikit-learn.org/stable/modules/preprocessing.html\n",
      "Please also refer to the documentation for alternative solver options:\n",
      "    https://scikit-learn.org/stable/modules/linear_model.html#logistic-regression\n",
      "  n_iter_i = _check_optimize_result(\n",
      "C:\\ProgramData\\Anaconda3\\lib\\site-packages\\sklearn\\linear_model\\_logistic.py:814: ConvergenceWarning: lbfgs failed to converge (status=1):\n",
      "STOP: TOTAL NO. of ITERATIONS REACHED LIMIT.\n",
      "\n",
      "Increase the number of iterations (max_iter) or scale the data as shown in:\n",
      "    https://scikit-learn.org/stable/modules/preprocessing.html\n",
      "Please also refer to the documentation for alternative solver options:\n",
      "    https://scikit-learn.org/stable/modules/linear_model.html#logistic-regression\n",
      "  n_iter_i = _check_optimize_result(\n",
      "C:\\ProgramData\\Anaconda3\\lib\\site-packages\\sklearn\\linear_model\\_logistic.py:814: ConvergenceWarning: lbfgs failed to converge (status=1):\n",
      "STOP: TOTAL NO. of ITERATIONS REACHED LIMIT.\n",
      "\n",
      "Increase the number of iterations (max_iter) or scale the data as shown in:\n",
      "    https://scikit-learn.org/stable/modules/preprocessing.html\n",
      "Please also refer to the documentation for alternative solver options:\n",
      "    https://scikit-learn.org/stable/modules/linear_model.html#logistic-regression\n",
      "  n_iter_i = _check_optimize_result(\n",
      "C:\\ProgramData\\Anaconda3\\lib\\site-packages\\sklearn\\linear_model\\_logistic.py:814: ConvergenceWarning: lbfgs failed to converge (status=1):\n",
      "STOP: TOTAL NO. of ITERATIONS REACHED LIMIT.\n",
      "\n",
      "Increase the number of iterations (max_iter) or scale the data as shown in:\n",
      "    https://scikit-learn.org/stable/modules/preprocessing.html\n",
      "Please also refer to the documentation for alternative solver options:\n",
      "    https://scikit-learn.org/stable/modules/linear_model.html#logistic-regression\n",
      "  n_iter_i = _check_optimize_result(\n",
      "C:\\ProgramData\\Anaconda3\\lib\\site-packages\\sklearn\\linear_model\\_logistic.py:814: ConvergenceWarning: lbfgs failed to converge (status=1):\n",
      "STOP: TOTAL NO. of ITERATIONS REACHED LIMIT.\n",
      "\n",
      "Increase the number of iterations (max_iter) or scale the data as shown in:\n",
      "    https://scikit-learn.org/stable/modules/preprocessing.html\n",
      "Please also refer to the documentation for alternative solver options:\n",
      "    https://scikit-learn.org/stable/modules/linear_model.html#logistic-regression\n",
      "  n_iter_i = _check_optimize_result(\n"
     ]
    },
    {
     "name": "stderr",
     "output_type": "stream",
     "text": [
      "C:\\ProgramData\\Anaconda3\\lib\\site-packages\\sklearn\\linear_model\\_logistic.py:814: ConvergenceWarning: lbfgs failed to converge (status=1):\n",
      "STOP: TOTAL NO. of ITERATIONS REACHED LIMIT.\n",
      "\n",
      "Increase the number of iterations (max_iter) or scale the data as shown in:\n",
      "    https://scikit-learn.org/stable/modules/preprocessing.html\n",
      "Please also refer to the documentation for alternative solver options:\n",
      "    https://scikit-learn.org/stable/modules/linear_model.html#logistic-regression\n",
      "  n_iter_i = _check_optimize_result(\n",
      "C:\\ProgramData\\Anaconda3\\lib\\site-packages\\sklearn\\linear_model\\_logistic.py:814: ConvergenceWarning: lbfgs failed to converge (status=1):\n",
      "STOP: TOTAL NO. of ITERATIONS REACHED LIMIT.\n",
      "\n",
      "Increase the number of iterations (max_iter) or scale the data as shown in:\n",
      "    https://scikit-learn.org/stable/modules/preprocessing.html\n",
      "Please also refer to the documentation for alternative solver options:\n",
      "    https://scikit-learn.org/stable/modules/linear_model.html#logistic-regression\n",
      "  n_iter_i = _check_optimize_result(\n",
      "C:\\ProgramData\\Anaconda3\\lib\\site-packages\\sklearn\\linear_model\\_logistic.py:814: ConvergenceWarning: lbfgs failed to converge (status=1):\n",
      "STOP: TOTAL NO. of ITERATIONS REACHED LIMIT.\n",
      "\n",
      "Increase the number of iterations (max_iter) or scale the data as shown in:\n",
      "    https://scikit-learn.org/stable/modules/preprocessing.html\n",
      "Please also refer to the documentation for alternative solver options:\n",
      "    https://scikit-learn.org/stable/modules/linear_model.html#logistic-regression\n",
      "  n_iter_i = _check_optimize_result(\n",
      "C:\\ProgramData\\Anaconda3\\lib\\site-packages\\sklearn\\linear_model\\_logistic.py:814: ConvergenceWarning: lbfgs failed to converge (status=1):\n",
      "STOP: TOTAL NO. of ITERATIONS REACHED LIMIT.\n",
      "\n",
      "Increase the number of iterations (max_iter) or scale the data as shown in:\n",
      "    https://scikit-learn.org/stable/modules/preprocessing.html\n",
      "Please also refer to the documentation for alternative solver options:\n",
      "    https://scikit-learn.org/stable/modules/linear_model.html#logistic-regression\n",
      "  n_iter_i = _check_optimize_result(\n",
      "C:\\ProgramData\\Anaconda3\\lib\\site-packages\\sklearn\\linear_model\\_logistic.py:814: ConvergenceWarning: lbfgs failed to converge (status=1):\n",
      "STOP: TOTAL NO. of ITERATIONS REACHED LIMIT.\n",
      "\n",
      "Increase the number of iterations (max_iter) or scale the data as shown in:\n",
      "    https://scikit-learn.org/stable/modules/preprocessing.html\n",
      "Please also refer to the documentation for alternative solver options:\n",
      "    https://scikit-learn.org/stable/modules/linear_model.html#logistic-regression\n",
      "  n_iter_i = _check_optimize_result(\n",
      "C:\\ProgramData\\Anaconda3\\lib\\site-packages\\sklearn\\linear_model\\_logistic.py:814: ConvergenceWarning: lbfgs failed to converge (status=1):\n",
      "STOP: TOTAL NO. of ITERATIONS REACHED LIMIT.\n",
      "\n",
      "Increase the number of iterations (max_iter) or scale the data as shown in:\n",
      "    https://scikit-learn.org/stable/modules/preprocessing.html\n",
      "Please also refer to the documentation for alternative solver options:\n",
      "    https://scikit-learn.org/stable/modules/linear_model.html#logistic-regression\n",
      "  n_iter_i = _check_optimize_result(\n",
      "C:\\ProgramData\\Anaconda3\\lib\\site-packages\\sklearn\\linear_model\\_logistic.py:814: ConvergenceWarning: lbfgs failed to converge (status=1):\n",
      "STOP: TOTAL NO. of ITERATIONS REACHED LIMIT.\n",
      "\n",
      "Increase the number of iterations (max_iter) or scale the data as shown in:\n",
      "    https://scikit-learn.org/stable/modules/preprocessing.html\n",
      "Please also refer to the documentation for alternative solver options:\n",
      "    https://scikit-learn.org/stable/modules/linear_model.html#logistic-regression\n",
      "  n_iter_i = _check_optimize_result(\n",
      "C:\\ProgramData\\Anaconda3\\lib\\site-packages\\sklearn\\linear_model\\_logistic.py:814: ConvergenceWarning: lbfgs failed to converge (status=1):\n",
      "STOP: TOTAL NO. of ITERATIONS REACHED LIMIT.\n",
      "\n",
      "Increase the number of iterations (max_iter) or scale the data as shown in:\n",
      "    https://scikit-learn.org/stable/modules/preprocessing.html\n",
      "Please also refer to the documentation for alternative solver options:\n",
      "    https://scikit-learn.org/stable/modules/linear_model.html#logistic-regression\n",
      "  n_iter_i = _check_optimize_result(\n",
      "C:\\ProgramData\\Anaconda3\\lib\\site-packages\\sklearn\\linear_model\\_logistic.py:814: ConvergenceWarning: lbfgs failed to converge (status=1):\n",
      "STOP: TOTAL NO. of ITERATIONS REACHED LIMIT.\n",
      "\n",
      "Increase the number of iterations (max_iter) or scale the data as shown in:\n",
      "    https://scikit-learn.org/stable/modules/preprocessing.html\n",
      "Please also refer to the documentation for alternative solver options:\n",
      "    https://scikit-learn.org/stable/modules/linear_model.html#logistic-regression\n",
      "  n_iter_i = _check_optimize_result(\n",
      "C:\\ProgramData\\Anaconda3\\lib\\site-packages\\sklearn\\linear_model\\_logistic.py:814: ConvergenceWarning: lbfgs failed to converge (status=1):\n",
      "STOP: TOTAL NO. of ITERATIONS REACHED LIMIT.\n",
      "\n",
      "Increase the number of iterations (max_iter) or scale the data as shown in:\n",
      "    https://scikit-learn.org/stable/modules/preprocessing.html\n",
      "Please also refer to the documentation for alternative solver options:\n",
      "    https://scikit-learn.org/stable/modules/linear_model.html#logistic-regression\n",
      "  n_iter_i = _check_optimize_result(\n",
      "C:\\ProgramData\\Anaconda3\\lib\\site-packages\\sklearn\\linear_model\\_logistic.py:814: ConvergenceWarning: lbfgs failed to converge (status=1):\n",
      "STOP: TOTAL NO. of ITERATIONS REACHED LIMIT.\n",
      "\n",
      "Increase the number of iterations (max_iter) or scale the data as shown in:\n",
      "    https://scikit-learn.org/stable/modules/preprocessing.html\n",
      "Please also refer to the documentation for alternative solver options:\n",
      "    https://scikit-learn.org/stable/modules/linear_model.html#logistic-regression\n",
      "  n_iter_i = _check_optimize_result(\n",
      "C:\\ProgramData\\Anaconda3\\lib\\site-packages\\sklearn\\linear_model\\_logistic.py:814: ConvergenceWarning: lbfgs failed to converge (status=1):\n",
      "STOP: TOTAL NO. of ITERATIONS REACHED LIMIT.\n",
      "\n",
      "Increase the number of iterations (max_iter) or scale the data as shown in:\n",
      "    https://scikit-learn.org/stable/modules/preprocessing.html\n",
      "Please also refer to the documentation for alternative solver options:\n",
      "    https://scikit-learn.org/stable/modules/linear_model.html#logistic-regression\n",
      "  n_iter_i = _check_optimize_result(\n",
      "C:\\ProgramData\\Anaconda3\\lib\\site-packages\\sklearn\\linear_model\\_logistic.py:814: ConvergenceWarning: lbfgs failed to converge (status=1):\n",
      "STOP: TOTAL NO. of ITERATIONS REACHED LIMIT.\n",
      "\n",
      "Increase the number of iterations (max_iter) or scale the data as shown in:\n",
      "    https://scikit-learn.org/stable/modules/preprocessing.html\n",
      "Please also refer to the documentation for alternative solver options:\n",
      "    https://scikit-learn.org/stable/modules/linear_model.html#logistic-regression\n",
      "  n_iter_i = _check_optimize_result(\n",
      "C:\\ProgramData\\Anaconda3\\lib\\site-packages\\sklearn\\linear_model\\_logistic.py:814: ConvergenceWarning: lbfgs failed to converge (status=1):\n",
      "STOP: TOTAL NO. of ITERATIONS REACHED LIMIT.\n",
      "\n",
      "Increase the number of iterations (max_iter) or scale the data as shown in:\n",
      "    https://scikit-learn.org/stable/modules/preprocessing.html\n",
      "Please also refer to the documentation for alternative solver options:\n",
      "    https://scikit-learn.org/stable/modules/linear_model.html#logistic-regression\n",
      "  n_iter_i = _check_optimize_result(\n",
      "C:\\ProgramData\\Anaconda3\\lib\\site-packages\\sklearn\\linear_model\\_logistic.py:814: ConvergenceWarning: lbfgs failed to converge (status=1):\n",
      "STOP: TOTAL NO. of ITERATIONS REACHED LIMIT.\n",
      "\n",
      "Increase the number of iterations (max_iter) or scale the data as shown in:\n",
      "    https://scikit-learn.org/stable/modules/preprocessing.html\n",
      "Please also refer to the documentation for alternative solver options:\n",
      "    https://scikit-learn.org/stable/modules/linear_model.html#logistic-regression\n",
      "  n_iter_i = _check_optimize_result(\n",
      "C:\\ProgramData\\Anaconda3\\lib\\site-packages\\sklearn\\linear_model\\_logistic.py:814: ConvergenceWarning: lbfgs failed to converge (status=1):\n",
      "STOP: TOTAL NO. of ITERATIONS REACHED LIMIT.\n",
      "\n",
      "Increase the number of iterations (max_iter) or scale the data as shown in:\n",
      "    https://scikit-learn.org/stable/modules/preprocessing.html\n",
      "Please also refer to the documentation for alternative solver options:\n",
      "    https://scikit-learn.org/stable/modules/linear_model.html#logistic-regression\n",
      "  n_iter_i = _check_optimize_result(\n"
     ]
    },
    {
     "name": "stderr",
     "output_type": "stream",
     "text": [
      "C:\\ProgramData\\Anaconda3\\lib\\site-packages\\sklearn\\linear_model\\_logistic.py:814: ConvergenceWarning: lbfgs failed to converge (status=1):\n",
      "STOP: TOTAL NO. of ITERATIONS REACHED LIMIT.\n",
      "\n",
      "Increase the number of iterations (max_iter) or scale the data as shown in:\n",
      "    https://scikit-learn.org/stable/modules/preprocessing.html\n",
      "Please also refer to the documentation for alternative solver options:\n",
      "    https://scikit-learn.org/stable/modules/linear_model.html#logistic-regression\n",
      "  n_iter_i = _check_optimize_result(\n",
      "C:\\ProgramData\\Anaconda3\\lib\\site-packages\\sklearn\\linear_model\\_logistic.py:814: ConvergenceWarning: lbfgs failed to converge (status=1):\n",
      "STOP: TOTAL NO. of ITERATIONS REACHED LIMIT.\n",
      "\n",
      "Increase the number of iterations (max_iter) or scale the data as shown in:\n",
      "    https://scikit-learn.org/stable/modules/preprocessing.html\n",
      "Please also refer to the documentation for alternative solver options:\n",
      "    https://scikit-learn.org/stable/modules/linear_model.html#logistic-regression\n",
      "  n_iter_i = _check_optimize_result(\n",
      "C:\\ProgramData\\Anaconda3\\lib\\site-packages\\sklearn\\linear_model\\_logistic.py:814: ConvergenceWarning: lbfgs failed to converge (status=1):\n",
      "STOP: TOTAL NO. of ITERATIONS REACHED LIMIT.\n",
      "\n",
      "Increase the number of iterations (max_iter) or scale the data as shown in:\n",
      "    https://scikit-learn.org/stable/modules/preprocessing.html\n",
      "Please also refer to the documentation for alternative solver options:\n",
      "    https://scikit-learn.org/stable/modules/linear_model.html#logistic-regression\n",
      "  n_iter_i = _check_optimize_result(\n",
      "C:\\ProgramData\\Anaconda3\\lib\\site-packages\\sklearn\\linear_model\\_logistic.py:814: ConvergenceWarning: lbfgs failed to converge (status=1):\n",
      "STOP: TOTAL NO. of ITERATIONS REACHED LIMIT.\n",
      "\n",
      "Increase the number of iterations (max_iter) or scale the data as shown in:\n",
      "    https://scikit-learn.org/stable/modules/preprocessing.html\n",
      "Please also refer to the documentation for alternative solver options:\n",
      "    https://scikit-learn.org/stable/modules/linear_model.html#logistic-regression\n",
      "  n_iter_i = _check_optimize_result(\n",
      "C:\\ProgramData\\Anaconda3\\lib\\site-packages\\sklearn\\linear_model\\_logistic.py:814: ConvergenceWarning: lbfgs failed to converge (status=1):\n",
      "STOP: TOTAL NO. of ITERATIONS REACHED LIMIT.\n",
      "\n",
      "Increase the number of iterations (max_iter) or scale the data as shown in:\n",
      "    https://scikit-learn.org/stable/modules/preprocessing.html\n",
      "Please also refer to the documentation for alternative solver options:\n",
      "    https://scikit-learn.org/stable/modules/linear_model.html#logistic-regression\n",
      "  n_iter_i = _check_optimize_result(\n",
      "C:\\ProgramData\\Anaconda3\\lib\\site-packages\\sklearn\\linear_model\\_logistic.py:814: ConvergenceWarning: lbfgs failed to converge (status=1):\n",
      "STOP: TOTAL NO. of ITERATIONS REACHED LIMIT.\n",
      "\n",
      "Increase the number of iterations (max_iter) or scale the data as shown in:\n",
      "    https://scikit-learn.org/stable/modules/preprocessing.html\n",
      "Please also refer to the documentation for alternative solver options:\n",
      "    https://scikit-learn.org/stable/modules/linear_model.html#logistic-regression\n",
      "  n_iter_i = _check_optimize_result(\n",
      "C:\\ProgramData\\Anaconda3\\lib\\site-packages\\sklearn\\linear_model\\_logistic.py:814: ConvergenceWarning: lbfgs failed to converge (status=1):\n",
      "STOP: TOTAL NO. of ITERATIONS REACHED LIMIT.\n",
      "\n",
      "Increase the number of iterations (max_iter) or scale the data as shown in:\n",
      "    https://scikit-learn.org/stable/modules/preprocessing.html\n",
      "Please also refer to the documentation for alternative solver options:\n",
      "    https://scikit-learn.org/stable/modules/linear_model.html#logistic-regression\n",
      "  n_iter_i = _check_optimize_result(\n",
      "C:\\ProgramData\\Anaconda3\\lib\\site-packages\\sklearn\\linear_model\\_logistic.py:814: ConvergenceWarning: lbfgs failed to converge (status=1):\n",
      "STOP: TOTAL NO. of ITERATIONS REACHED LIMIT.\n",
      "\n",
      "Increase the number of iterations (max_iter) or scale the data as shown in:\n",
      "    https://scikit-learn.org/stable/modules/preprocessing.html\n",
      "Please also refer to the documentation for alternative solver options:\n",
      "    https://scikit-learn.org/stable/modules/linear_model.html#logistic-regression\n",
      "  n_iter_i = _check_optimize_result(\n",
      "C:\\ProgramData\\Anaconda3\\lib\\site-packages\\sklearn\\linear_model\\_logistic.py:814: ConvergenceWarning: lbfgs failed to converge (status=1):\n",
      "STOP: TOTAL NO. of ITERATIONS REACHED LIMIT.\n",
      "\n",
      "Increase the number of iterations (max_iter) or scale the data as shown in:\n",
      "    https://scikit-learn.org/stable/modules/preprocessing.html\n",
      "Please also refer to the documentation for alternative solver options:\n",
      "    https://scikit-learn.org/stable/modules/linear_model.html#logistic-regression\n",
      "  n_iter_i = _check_optimize_result(\n",
      "C:\\ProgramData\\Anaconda3\\lib\\site-packages\\sklearn\\linear_model\\_logistic.py:814: ConvergenceWarning: lbfgs failed to converge (status=1):\n",
      "STOP: TOTAL NO. of ITERATIONS REACHED LIMIT.\n",
      "\n",
      "Increase the number of iterations (max_iter) or scale the data as shown in:\n",
      "    https://scikit-learn.org/stable/modules/preprocessing.html\n",
      "Please also refer to the documentation for alternative solver options:\n",
      "    https://scikit-learn.org/stable/modules/linear_model.html#logistic-regression\n",
      "  n_iter_i = _check_optimize_result(\n",
      "C:\\ProgramData\\Anaconda3\\lib\\site-packages\\sklearn\\linear_model\\_logistic.py:814: ConvergenceWarning: lbfgs failed to converge (status=1):\n",
      "STOP: TOTAL NO. of ITERATIONS REACHED LIMIT.\n",
      "\n",
      "Increase the number of iterations (max_iter) or scale the data as shown in:\n",
      "    https://scikit-learn.org/stable/modules/preprocessing.html\n",
      "Please also refer to the documentation for alternative solver options:\n",
      "    https://scikit-learn.org/stable/modules/linear_model.html#logistic-regression\n",
      "  n_iter_i = _check_optimize_result(\n",
      "C:\\ProgramData\\Anaconda3\\lib\\site-packages\\sklearn\\linear_model\\_logistic.py:814: ConvergenceWarning: lbfgs failed to converge (status=1):\n",
      "STOP: TOTAL NO. of ITERATIONS REACHED LIMIT.\n",
      "\n",
      "Increase the number of iterations (max_iter) or scale the data as shown in:\n",
      "    https://scikit-learn.org/stable/modules/preprocessing.html\n",
      "Please also refer to the documentation for alternative solver options:\n",
      "    https://scikit-learn.org/stable/modules/linear_model.html#logistic-regression\n",
      "  n_iter_i = _check_optimize_result(\n",
      "C:\\ProgramData\\Anaconda3\\lib\\site-packages\\sklearn\\linear_model\\_logistic.py:814: ConvergenceWarning: lbfgs failed to converge (status=1):\n",
      "STOP: TOTAL NO. of ITERATIONS REACHED LIMIT.\n",
      "\n",
      "Increase the number of iterations (max_iter) or scale the data as shown in:\n",
      "    https://scikit-learn.org/stable/modules/preprocessing.html\n",
      "Please also refer to the documentation for alternative solver options:\n",
      "    https://scikit-learn.org/stable/modules/linear_model.html#logistic-regression\n",
      "  n_iter_i = _check_optimize_result(\n",
      "C:\\ProgramData\\Anaconda3\\lib\\site-packages\\sklearn\\linear_model\\_logistic.py:814: ConvergenceWarning: lbfgs failed to converge (status=1):\n",
      "STOP: TOTAL NO. of ITERATIONS REACHED LIMIT.\n",
      "\n",
      "Increase the number of iterations (max_iter) or scale the data as shown in:\n",
      "    https://scikit-learn.org/stable/modules/preprocessing.html\n",
      "Please also refer to the documentation for alternative solver options:\n",
      "    https://scikit-learn.org/stable/modules/linear_model.html#logistic-regression\n",
      "  n_iter_i = _check_optimize_result(\n",
      "C:\\ProgramData\\Anaconda3\\lib\\site-packages\\sklearn\\linear_model\\_logistic.py:814: ConvergenceWarning: lbfgs failed to converge (status=1):\n",
      "STOP: TOTAL NO. of ITERATIONS REACHED LIMIT.\n",
      "\n",
      "Increase the number of iterations (max_iter) or scale the data as shown in:\n",
      "    https://scikit-learn.org/stable/modules/preprocessing.html\n",
      "Please also refer to the documentation for alternative solver options:\n",
      "    https://scikit-learn.org/stable/modules/linear_model.html#logistic-regression\n",
      "  n_iter_i = _check_optimize_result(\n",
      "C:\\ProgramData\\Anaconda3\\lib\\site-packages\\sklearn\\linear_model\\_logistic.py:814: ConvergenceWarning: lbfgs failed to converge (status=1):\n",
      "STOP: TOTAL NO. of ITERATIONS REACHED LIMIT.\n",
      "\n",
      "Increase the number of iterations (max_iter) or scale the data as shown in:\n",
      "    https://scikit-learn.org/stable/modules/preprocessing.html\n",
      "Please also refer to the documentation for alternative solver options:\n",
      "    https://scikit-learn.org/stable/modules/linear_model.html#logistic-regression\n",
      "  n_iter_i = _check_optimize_result(\n"
     ]
    },
    {
     "name": "stderr",
     "output_type": "stream",
     "text": [
      "C:\\ProgramData\\Anaconda3\\lib\\site-packages\\sklearn\\linear_model\\_logistic.py:814: ConvergenceWarning: lbfgs failed to converge (status=1):\n",
      "STOP: TOTAL NO. of ITERATIONS REACHED LIMIT.\n",
      "\n",
      "Increase the number of iterations (max_iter) or scale the data as shown in:\n",
      "    https://scikit-learn.org/stable/modules/preprocessing.html\n",
      "Please also refer to the documentation for alternative solver options:\n",
      "    https://scikit-learn.org/stable/modules/linear_model.html#logistic-regression\n",
      "  n_iter_i = _check_optimize_result(\n"
     ]
    },
    {
     "name": "stdout",
     "output_type": "stream",
     "text": [
      "Fold 1 Accuracy: 0.8499622071050642\n",
      "Fold 2 Accuracy: 0.8499622071050642\n",
      "Fold 3 Accuracy: 0.8499622071050642\n",
      "Fold 4 Accuracy: 0.8499622071050642\n",
      "Fold 5 Accuracy: 0.8495842781557067\n",
      "Fold 6 Accuracy: 0.8495842781557067\n",
      "Fold 7 Accuracy: 0.8495842781557067\n",
      "Fold 8 Accuracy: 0.8495842781557067\n",
      "Fold 9 Accuracy: 0.8495842781557067\n",
      "Fold 10 Accuracy: 0.8495842781557067\n",
      "Fold 11 Accuracy: 0.8495842781557067\n",
      "Fold 12 Accuracy: 0.8495842781557067\n",
      "Fold 13 Accuracy: 0.8495842781557067\n",
      "Fold 14 Accuracy: 0.8499054820415879\n",
      "Fold 15 Accuracy: 0.8499054820415879\n",
      "Fold 16 Accuracy: 0.8499054820415879\n",
      "Fold 17 Accuracy: 0.8499054820415879\n",
      "Fold 18 Accuracy: 0.8499054820415879\n",
      "Fold 19 Accuracy: 0.8499054820415879\n",
      "Fold 20 Accuracy: 0.8499054820415879\n",
      "Fold 21 Accuracy: 0.8499054820415879\n",
      "Fold 22 Accuracy: 0.8499054820415879\n",
      "Fold 23 Accuracy: 0.8499054820415879\n",
      "Fold 24 Accuracy: 0.8499054820415879\n",
      "Fold 25 Accuracy: 0.8499054820415879\n",
      "Fold 26 Accuracy: 0.8499054820415879\n",
      "Fold 27 Accuracy: 0.8499054820415879\n",
      "Fold 28 Accuracy: 0.8499054820415879\n",
      "Fold 29 Accuracy: 0.8499054820415879\n",
      "Fold 30 Accuracy: 0.8499054820415879\n",
      "Fold 31 Accuracy: 0.8499054820415879\n",
      "Fold 32 Accuracy: 0.8499054820415879\n",
      "Fold 33 Accuracy: 0.8499054820415879\n",
      "Fold 34 Accuracy: 0.8499054820415879\n",
      "Fold 35 Accuracy: 0.8499054820415879\n",
      "Fold 36 Accuracy: 0.8499054820415879\n",
      "Fold 37 Accuracy: 0.8499054820415879\n",
      "Fold 38 Accuracy: 0.8499054820415879\n",
      "Fold 39 Accuracy: 0.8499054820415879\n",
      "Fold 40 Accuracy: 0.8499054820415879\n",
      "Fold 41 Accuracy: 0.8499054820415879\n",
      "Fold 42 Accuracy: 0.8499054820415879\n",
      "Fold 43 Accuracy: 0.8499054820415879\n",
      "Fold 44 Accuracy: 0.8499054820415879\n",
      "Fold 45 Accuracy: 0.8499054820415879\n",
      "Fold 46 Accuracy: 0.8499054820415879\n",
      "Fold 47 Accuracy: 0.8499054820415879\n",
      "Fold 48 Accuracy: 0.8499054820415879\n",
      "Fold 49 Accuracy: 0.8499054820415879\n",
      "Fold 50 Accuracy: 0.8499054820415879\n",
      "Accuracy: 0.8498522033472071\n"
     ]
    },
    {
     "name": "stderr",
     "output_type": "stream",
     "text": [
      "C:\\ProgramData\\Anaconda3\\lib\\site-packages\\sklearn\\linear_model\\_logistic.py:814: ConvergenceWarning: lbfgs failed to converge (status=1):\n",
      "STOP: TOTAL NO. of ITERATIONS REACHED LIMIT.\n",
      "\n",
      "Increase the number of iterations (max_iter) or scale the data as shown in:\n",
      "    https://scikit-learn.org/stable/modules/preprocessing.html\n",
      "Please also refer to the documentation for alternative solver options:\n",
      "    https://scikit-learn.org/stable/modules/linear_model.html#logistic-regression\n",
      "  n_iter_i = _check_optimize_result(\n"
     ]
    }
   ],
   "source": [
    "logistic_Kfold_validation(Features,TargetVariable)"
   ]
  },
  {
   "cell_type": "markdown",
   "id": "3dd8c286",
   "metadata": {},
   "source": [
    "# Kfold - Neural  Network"
   ]
  },
  {
   "cell_type": "code",
   "execution_count": 39,
   "id": "1a2c800b",
   "metadata": {},
   "outputs": [],
   "source": [
    "def Network_Kfold_validation(X, Y):\n",
    "    #cv=10 ...> K Value = 10 since TOTAL NO. of ITERATIONS REACHED LIMIT when k=50\n",
    "    classifier_method = MLPClassifier()\n",
    "    scores = cross_val_score(classifier_method, X, Y, cv=10)\n",
    "    # Print the accuracy for each fold\n",
    "    for fold, score in enumerate(scores, 1):\n",
    "        print(f\"Fold {fold} Accuracy: {score}\")\n",
    "    # Calculate and Print the Mean Accuracy\n",
    "    classification_score = scores.mean()\n",
    "    print(\"Accuracy:\", classification_score)\n"
   ]
  },
  {
   "cell_type": "code",
   "execution_count": 40,
   "id": "a944d7a2",
   "metadata": {},
   "outputs": [
    {
     "name": "stderr",
     "output_type": "stream",
     "text": [
      "C:\\ProgramData\\Anaconda3\\lib\\site-packages\\sklearn\\neural_network\\_multilayer_perceptron.py:699: UserWarning: Training interrupted by user.\n",
      "  warnings.warn(\"Training interrupted by user.\")\n",
      "C:\\ProgramData\\Anaconda3\\lib\\site-packages\\sklearn\\neural_network\\_multilayer_perceptron.py:699: UserWarning: Training interrupted by user.\n",
      "  warnings.warn(\"Training interrupted by user.\")\n",
      "C:\\ProgramData\\Anaconda3\\lib\\site-packages\\sklearn\\neural_network\\_multilayer_perceptron.py:699: UserWarning: Training interrupted by user.\n",
      "  warnings.warn(\"Training interrupted by user.\")\n",
      "C:\\ProgramData\\Anaconda3\\lib\\site-packages\\sklearn\\neural_network\\_multilayer_perceptron.py:699: UserWarning: Training interrupted by user.\n",
      "  warnings.warn(\"Training interrupted by user.\")\n",
      "C:\\ProgramData\\Anaconda3\\lib\\site-packages\\sklearn\\neural_network\\_multilayer_perceptron.py:699: UserWarning: Training interrupted by user.\n",
      "  warnings.warn(\"Training interrupted by user.\")\n",
      "C:\\ProgramData\\Anaconda3\\lib\\site-packages\\sklearn\\neural_network\\_multilayer_perceptron.py:699: UserWarning: Training interrupted by user.\n",
      "  warnings.warn(\"Training interrupted by user.\")\n"
     ]
    },
    {
     "name": "stdout",
     "output_type": "stream",
     "text": [
      "Fold 1 Accuracy: 0.8501549860134573\n",
      "Fold 2 Accuracy: 0.8495501625463068\n",
      "Fold 3 Accuracy: 0.8492477508127315\n",
      "Fold 4 Accuracy: 0.849841221835778\n",
      "Fold 5 Accuracy: 0.849841221835778\n",
      "Fold 6 Accuracy: 0.849841221835778\n",
      "Fold 7 Accuracy: 0.849841221835778\n",
      "Fold 8 Accuracy: 0.849841221835778\n",
      "Fold 9 Accuracy: 0.849841221835778\n",
      "Fold 10 Accuracy: 0.849841221835778\n",
      "Accuracy: 0.8497841452222941\n"
     ]
    },
    {
     "name": "stderr",
     "output_type": "stream",
     "text": [
      "C:\\ProgramData\\Anaconda3\\lib\\site-packages\\sklearn\\neural_network\\_multilayer_perceptron.py:699: UserWarning: Training interrupted by user.\n",
      "  warnings.warn(\"Training interrupted by user.\")\n"
     ]
    }
   ],
   "source": [
    "Network_Kfold_validation(Features,TargetVariable)"
   ]
  },
  {
   "cell_type": "markdown",
   "id": "93a5af20",
   "metadata": {},
   "source": [
    "# Results:\n",
    "* The classification models' accuracies after k-fold cross-validation are as follows: KNN 83%, Naive Bayes 70%, Logistic Regression 85%, and Neural Network 85%.\n",
    "\n",
    "* The results reveal that KNN, Logistic Regression, and Neural Network perform consistently well on the dataset, whereas Naive Bayes performs marginally worse. The effect of k-fold cross-validation on model performance varied, with some models being more robust to the cross-validation process's modifications.\n"
   ]
  },
  {
   "cell_type": "markdown",
   "id": "ab20c89a",
   "metadata": {},
   "source": [
    "------------------------------------------------------------------------------------------------------------------------------"
   ]
  },
  {
   "cell_type": "markdown",
   "id": "a698b095",
   "metadata": {},
   "source": [
    "# Stratified Sampling - KNN"
   ]
  },
  {
   "cell_type": "code",
   "execution_count": 42,
   "id": "d0e6a04e",
   "metadata": {},
   "outputs": [],
   "source": [
    "def knn_stratified_sampling(Features, TargetVariable):\n",
    "    classifier = KNeighborsClassifier()\n",
    "    classification_score = []\n",
    "#Due to compuatation Time ...> range(2)\n",
    "    for _ in range(2):\n",
    "        # Perform stratified sampling\n",
    "        training_set_x, testing_set_x, training_set_y, testing_set_y = train_test_split(Features, TargetVariable, test_size=0.3, stratify=TargetVariable)\n",
    "\n",
    "        # Fit the classifier on the training data\n",
    "        classifier.fit(training_set_x, training_set_y)\n",
    "\n",
    "        # Evaluate the classifier on the test set\n",
    "        accuracy = classifier.score(testing_set_x, testing_set_y)\n",
    "        classification_score.append(accuracy)\n",
    "\n",
    "    # Calculate and Print the Mean Accuracy\n",
    "    classification_score = np.mean(classification_score) \n",
    "    print(\"Average Accuracy:\", classification_score)"
   ]
  },
  {
   "cell_type": "code",
   "execution_count": 43,
   "id": "4c76ecd6",
   "metadata": {},
   "outputs": [
    {
     "name": "stdout",
     "output_type": "stream",
     "text": [
      "Average Accuracy: 0.8263817132488218\n"
     ]
    }
   ],
   "source": [
    "knn_stratified_sampling(Features,TargetVariable)"
   ]
  },
  {
   "cell_type": "markdown",
   "id": "d983bb8b",
   "metadata": {},
   "source": [
    "# Stratified Sampling - Naive Bay"
   ]
  },
  {
   "cell_type": "code",
   "execution_count": 44,
   "id": "5e35940f",
   "metadata": {},
   "outputs": [],
   "source": [
    "def Naive_stratified_sampling(Features, TargetVariable):\n",
    "    classifier = GaussianNB()\n",
    "    classification_score = []\n",
    "\n",
    "    for _ in range(10):\n",
    "        # Perform stratified sampling\n",
    "        training_set_x, testing_set_x, training_set_y, testing_set_y = train_test_split(Features, TargetVariable, test_size=0.2, stratify=TargetVariable)\n",
    "\n",
    "        # Fit the classifier on the training data\n",
    "        classifier.fit(training_set_x, training_set_y)\n",
    "\n",
    "        # Evaluate the classifier on the test set\n",
    "        accuracy = classifier.score(testing_set_x, testing_set_y)\n",
    "        classification_score.append(accuracy)\n",
    "\n",
    "    # Calculate and print the average accuracy\n",
    "    classification_score = np.mean(classification_score) \n",
    "    print(\"Average Accuracy:\", classification_score)\n"
   ]
  },
  {
   "cell_type": "code",
   "execution_count": 45,
   "id": "1679ff46",
   "metadata": {},
   "outputs": [
    {
     "name": "stdout",
     "output_type": "stream",
     "text": [
      "Average Accuracy: 0.6295089403848335\n"
     ]
    }
   ],
   "source": [
    "Naive_stratified_sampling(Features, TargetVariable)\n"
   ]
  },
  {
   "cell_type": "markdown",
   "id": "23bd521d",
   "metadata": {},
   "source": [
    "# Stratified Sampling - Logistic Regression"
   ]
  },
  {
   "cell_type": "code",
   "execution_count": 46,
   "id": "de4dacc9",
   "metadata": {},
   "outputs": [],
   "source": [
    "def LogisticRegression_stratified_sampling(Features, TargetVariable):\n",
    "    classifier = LogisticRegression()\n",
    "    classification_score = []\n",
    "\n",
    "    for _ in range(10):\n",
    "        # Perform stratified sampling\n",
    "        training_set_x, testing_set_x, training_set_y, testing_set_y = train_test_split(Features, TargetVariable, test_size=0.2, stratify=TargetVariable)\n",
    "\n",
    "        # Fit the classifier on the training data\n",
    "        classifier.fit(training_set_x, training_set_y)\n",
    "\n",
    "        # Evaluate the classifier on the test set\n",
    "        accuracy = classifier.score(testing_set_x, testing_set_y)\n",
    "        classification_score.append(accuracy)\n",
    "\n",
    "    # Calculate and print the average accuracy\n",
    "    classification_score = np.mean(classification_score) \n",
    "    print(\"Average Accuracy:\", classification_score)\n"
   ]
  },
  {
   "cell_type": "code",
   "execution_count": 47,
   "id": "f9b2eb99",
   "metadata": {},
   "outputs": [
    {
     "name": "stderr",
     "output_type": "stream",
     "text": [
      "C:\\ProgramData\\Anaconda3\\lib\\site-packages\\sklearn\\linear_model\\_logistic.py:814: ConvergenceWarning: lbfgs failed to converge (status=1):\n",
      "STOP: TOTAL NO. of ITERATIONS REACHED LIMIT.\n",
      "\n",
      "Increase the number of iterations (max_iter) or scale the data as shown in:\n",
      "    https://scikit-learn.org/stable/modules/preprocessing.html\n",
      "Please also refer to the documentation for alternative solver options:\n",
      "    https://scikit-learn.org/stable/modules/linear_model.html#logistic-regression\n",
      "  n_iter_i = _check_optimize_result(\n",
      "C:\\ProgramData\\Anaconda3\\lib\\site-packages\\sklearn\\linear_model\\_logistic.py:814: ConvergenceWarning: lbfgs failed to converge (status=1):\n",
      "STOP: TOTAL NO. of ITERATIONS REACHED LIMIT.\n",
      "\n",
      "Increase the number of iterations (max_iter) or scale the data as shown in:\n",
      "    https://scikit-learn.org/stable/modules/preprocessing.html\n",
      "Please also refer to the documentation for alternative solver options:\n",
      "    https://scikit-learn.org/stable/modules/linear_model.html#logistic-regression\n",
      "  n_iter_i = _check_optimize_result(\n",
      "C:\\ProgramData\\Anaconda3\\lib\\site-packages\\sklearn\\linear_model\\_logistic.py:814: ConvergenceWarning: lbfgs failed to converge (status=1):\n",
      "STOP: TOTAL NO. of ITERATIONS REACHED LIMIT.\n",
      "\n",
      "Increase the number of iterations (max_iter) or scale the data as shown in:\n",
      "    https://scikit-learn.org/stable/modules/preprocessing.html\n",
      "Please also refer to the documentation for alternative solver options:\n",
      "    https://scikit-learn.org/stable/modules/linear_model.html#logistic-regression\n",
      "  n_iter_i = _check_optimize_result(\n",
      "C:\\ProgramData\\Anaconda3\\lib\\site-packages\\sklearn\\linear_model\\_logistic.py:814: ConvergenceWarning: lbfgs failed to converge (status=1):\n",
      "STOP: TOTAL NO. of ITERATIONS REACHED LIMIT.\n",
      "\n",
      "Increase the number of iterations (max_iter) or scale the data as shown in:\n",
      "    https://scikit-learn.org/stable/modules/preprocessing.html\n",
      "Please also refer to the documentation for alternative solver options:\n",
      "    https://scikit-learn.org/stable/modules/linear_model.html#logistic-regression\n",
      "  n_iter_i = _check_optimize_result(\n",
      "C:\\ProgramData\\Anaconda3\\lib\\site-packages\\sklearn\\linear_model\\_logistic.py:814: ConvergenceWarning: lbfgs failed to converge (status=1):\n",
      "STOP: TOTAL NO. of ITERATIONS REACHED LIMIT.\n",
      "\n",
      "Increase the number of iterations (max_iter) or scale the data as shown in:\n",
      "    https://scikit-learn.org/stable/modules/preprocessing.html\n",
      "Please also refer to the documentation for alternative solver options:\n",
      "    https://scikit-learn.org/stable/modules/linear_model.html#logistic-regression\n",
      "  n_iter_i = _check_optimize_result(\n",
      "C:\\ProgramData\\Anaconda3\\lib\\site-packages\\sklearn\\linear_model\\_logistic.py:814: ConvergenceWarning: lbfgs failed to converge (status=1):\n",
      "STOP: TOTAL NO. of ITERATIONS REACHED LIMIT.\n",
      "\n",
      "Increase the number of iterations (max_iter) or scale the data as shown in:\n",
      "    https://scikit-learn.org/stable/modules/preprocessing.html\n",
      "Please also refer to the documentation for alternative solver options:\n",
      "    https://scikit-learn.org/stable/modules/linear_model.html#logistic-regression\n",
      "  n_iter_i = _check_optimize_result(\n",
      "C:\\ProgramData\\Anaconda3\\lib\\site-packages\\sklearn\\linear_model\\_logistic.py:814: ConvergenceWarning: lbfgs failed to converge (status=1):\n",
      "STOP: TOTAL NO. of ITERATIONS REACHED LIMIT.\n",
      "\n",
      "Increase the number of iterations (max_iter) or scale the data as shown in:\n",
      "    https://scikit-learn.org/stable/modules/preprocessing.html\n",
      "Please also refer to the documentation for alternative solver options:\n",
      "    https://scikit-learn.org/stable/modules/linear_model.html#logistic-regression\n",
      "  n_iter_i = _check_optimize_result(\n",
      "C:\\ProgramData\\Anaconda3\\lib\\site-packages\\sklearn\\linear_model\\_logistic.py:814: ConvergenceWarning: lbfgs failed to converge (status=1):\n",
      "STOP: TOTAL NO. of ITERATIONS REACHED LIMIT.\n",
      "\n",
      "Increase the number of iterations (max_iter) or scale the data as shown in:\n",
      "    https://scikit-learn.org/stable/modules/preprocessing.html\n",
      "Please also refer to the documentation for alternative solver options:\n",
      "    https://scikit-learn.org/stable/modules/linear_model.html#logistic-regression\n",
      "  n_iter_i = _check_optimize_result(\n",
      "C:\\ProgramData\\Anaconda3\\lib\\site-packages\\sklearn\\linear_model\\_logistic.py:814: ConvergenceWarning: lbfgs failed to converge (status=1):\n",
      "STOP: TOTAL NO. of ITERATIONS REACHED LIMIT.\n",
      "\n",
      "Increase the number of iterations (max_iter) or scale the data as shown in:\n",
      "    https://scikit-learn.org/stable/modules/preprocessing.html\n",
      "Please also refer to the documentation for alternative solver options:\n",
      "    https://scikit-learn.org/stable/modules/linear_model.html#logistic-regression\n",
      "  n_iter_i = _check_optimize_result(\n"
     ]
    },
    {
     "name": "stdout",
     "output_type": "stream",
     "text": [
      "Average Accuracy: 0.8498468982724077\n"
     ]
    },
    {
     "name": "stderr",
     "output_type": "stream",
     "text": [
      "C:\\ProgramData\\Anaconda3\\lib\\site-packages\\sklearn\\linear_model\\_logistic.py:814: ConvergenceWarning: lbfgs failed to converge (status=1):\n",
      "STOP: TOTAL NO. of ITERATIONS REACHED LIMIT.\n",
      "\n",
      "Increase the number of iterations (max_iter) or scale the data as shown in:\n",
      "    https://scikit-learn.org/stable/modules/preprocessing.html\n",
      "Please also refer to the documentation for alternative solver options:\n",
      "    https://scikit-learn.org/stable/modules/linear_model.html#logistic-regression\n",
      "  n_iter_i = _check_optimize_result(\n"
     ]
    }
   ],
   "source": [
    "LogisticRegression_stratified_sampling(Features, TargetVariable)\n"
   ]
  },
  {
   "cell_type": "markdown",
   "id": "f5d69fc5",
   "metadata": {},
   "source": [
    "# Stratified Sampling - Neural Network"
   ]
  },
  {
   "cell_type": "code",
   "execution_count": 50,
   "id": "850164fc",
   "metadata": {},
   "outputs": [],
   "source": [
    "def Netwok_stratified_sampling(Features, TargetVariable):\n",
    "    classifier = MLPClassifier()\n",
    "    classification_score = []\n",
    "#Due to compuatation Time ...> range(2)\n",
    "    for _ in range(2):\n",
    "        # Perform stratified sampling\n",
    "        training_set_x, testing_set_x, training_set_y, testing_set_y = train_test_split(Features, TargetVariable, test_size=0.2, stratify=TargetVariable)\n",
    "\n",
    "        # Fit the classifier on the training data\n",
    "        classifier.fit(training_set_x, training_set_y)\n",
    "\n",
    "        # Evaluate the classifier on the test set\n",
    "        accuracy = classifier.score(testing_set_x, testing_set_y)\n",
    "        classification_score.append(accuracy)\n",
    "\n",
    "    # Calculate and print the average accuracy\n",
    "    classification_score = np.mean(classification_score) \n",
    "    print(\"Average Accuracy:\", classification_score)\n"
   ]
  },
  {
   "cell_type": "code",
   "execution_count": 51,
   "id": "fa5a35e3",
   "metadata": {},
   "outputs": [
    {
     "name": "stdout",
     "output_type": "stream",
     "text": [
      "Average Accuracy: 0.8496200808981968\n"
     ]
    }
   ],
   "source": [
    "Netwok_stratified_sampling(Features, TargetVariable)\n"
   ]
  },
  {
   "cell_type": "markdown",
   "id": "e219ac61",
   "metadata": {},
   "source": [
    "# Results:\n",
    "* The classification models' accuracies after applying stratified sampling cross-validation are as follows: KNN - 83%, Naive Bayes - 63%, Logistic Regression - 85%, and Neural Network - 85%.\n",
    "\n",
    "* The accuracy of K-Nearest Neighbors (KNN) remained unchanged after applying stratified sampling cross-validation. This indicates that the local patterns within each class in the dataset are consistent throughout, and the model is already performing consistently well.\n",
    "\n",
    "* After using stratified sampling cross-validation, the accuracy of Naive Bayes decreased from 73% to 63%. This suggests that the model's performance was affected by the stratified sampling approach. It's possible that the distribution of samples within each fold differed from the overall dataset, leading to a decrease in accuracy.\n",
    "\n",
    "* Both logistic regression and neural networks are models known for producing consistent results on specific datasets. If the initial accuracy of logistic regression and neural network models was already close to their maximum potential, stratified sampling cross-validation may not have had a major effect on their performance. This suggests that these models were already capturing the underlying patterns and relationships within the dataset effectively."
   ]
  },
  {
   "cell_type": "markdown",
   "id": "04233521",
   "metadata": {},
   "source": [
    "------------------------------------------------------------------------------------------------------------------------------"
   ]
  },
  {
   "cell_type": "markdown",
   "id": "064eb299",
   "metadata": {},
   "source": [
    "# Confusion Matrix - KNN"
   ]
  },
  {
   "cell_type": "code",
   "execution_count": 71,
   "id": "7027b582",
   "metadata": {},
   "outputs": [],
   "source": [
    "\n",
    "def confusion_matrix_knn(Features, TargetVariable):\n",
    "   \n",
    "    # Split the dataset into training and testing sets\n",
    "    training_set_x, testing_set_x, training_set_y, testing_set_y = train_test_split(Features, TargetVariable, test_size=0.25, random_state=42)\n",
    "\n",
    "    # Initialize the Naive Bayes model\n",
    "    knn = KNeighborsClassifier()\n",
    "\n",
    "    # Train the Naive Bayes model\n",
    "    knn.fit(training_set_x, training_set_y)\n",
    "\n",
    "    # Evaluate the Naive Bayes model on the test set\n",
    "    y_pred = knn.predict(testing_set_x)\n",
    "\n",
    "    # Create the confusion matrix\n",
    "    confusion_mat = confusion_matrix(testing_set_y, y_pred)\n",
    "    print(confusion_mat)\n",
    "\n",
    "\n",
    "    # Visualize the confusion matrix\n",
    "    plt.figure(figsize=(8, 6))\n",
    "    legend_Classfication_labels = {\n",
    "    0: 'Fatal',\n",
    "    1: 'Serious',\n",
    "    2: 'Slight'\n",
    "    }\n",
    "    \n",
    "\n",
    "    sns.heatmap(confusion_mat, annot=True, cmap=\"Oranges\", fmt=\"d\")\n",
    "    plt.title(\"Confusion Matrix\")\n",
    "    plt.xlabel(\"Predicted Class\")\n",
    "    plt.ylabel(\"Actual Class\")\n",
    "    handles = [plt.Rectangle((0, 0), 1, 1, color='blue', label=f'{key} = {value}') for key, value in legend_Classfication_labels.items()]\n",
    "    plt.legend(handles=handles, loc='upper right')\n",
    "    plt.show()\n",
    "\n"
   ]
  },
  {
   "cell_type": "code",
   "execution_count": 72,
   "id": "1ed2dc16",
   "metadata": {},
   "outputs": [
    {
     "name": "stdout",
     "output_type": "stream",
     "text": [
      "[[    3    24   340]\n",
      " [   12   233  4440]\n",
      " [   29   850 27135]]\n"
     ]
    },
    {
     "data": {
      "image/png": "[encoded data removed]",
      "text/plain": [
       "<Figure size 576x432 with 2 Axes>"
      ]
     },
     "metadata": {
      "needs_background": "light"
     },
     "output_type": "display_data"
    }
   ],
   "source": [
    "confusion_matrix_knn(Features, TargetVariable)\n"
   ]
  },
  {
   "cell_type": "markdown",
   "id": "92bd6aa0",
   "metadata": {},
   "source": [
    "# Results\n",
    "- there are 3 instances with \"Fatal\" that were correctly predicted, 24 instances with \"Fatal\" that were predicted as \"Serious\", and 340 instances with \"Fatal\" that were predicted as \"Slight\".\n",
    "\n",
    "- we can see that there are 233 instances with \"Serious\" that were correctly predicted , 12 instances with \"Serious\" that were predicted as \"Fatal\", and 4440 instances with true label 1 that were predicted as \"Slight\".\n",
    "\n",
    "- there are 27135 instances with \"Slight\" that were correctly predicted, 850 instances with \"Slight\" that were predicted as \"Serious\", and 29 instances with \"Slight\" that were predicted as \"Fatal\"."
   ]
  },
  {
   "cell_type": "markdown",
   "id": "e90510da",
   "metadata": {},
   "source": [
    "# Confusion Matrix - Naive Bay"
   ]
  },
  {
   "cell_type": "code",
   "execution_count": 69,
   "id": "52a0ca91",
   "metadata": {},
   "outputs": [],
   "source": [
    "\n",
    "def confusion_matrix_naive_bayes(Features, TargetVariable):\n",
    "   \n",
    "    # Split the dataset into training and testing sets\n",
    "    training_set_x, testing_set_x, training_set_y, testing_set_y = train_test_split(Features, TargetVariable, test_size=0.25, random_state=42)\n",
    "\n",
    "    # Initialize the Naive Bayes model\n",
    "    naive_bayes = GaussianNB()\n",
    "\n",
    "    # Train the Naive Bayes model\n",
    "    naive_bayes.fit(training_set_x, training_set_y)\n",
    "\n",
    "    # Evaluate the Naive Bayes model on the test set\n",
    "    y_pred = naive_bayes.predict(testing_set_x)\n",
    "\n",
    "    # Create the confusion matrix\n",
    "    confusion_mat = confusion_matrix(testing_set_y, y_pred)\n",
    "    print(confusion_mat)\n",
    "\n",
    "    # Visualize the confusion matrix\n",
    "    plt.figure(figsize=(8, 6))\n",
    "    \n",
    "    legend_Classfication_labels = {\n",
    "    0: 'Fatal',\n",
    "    1: 'Serious',\n",
    "    2: 'Slight'\n",
    "    }\n",
    "\n",
    "    sns.heatmap(confusion_mat, annot=True, cmap=\"Reds\", fmt=\"d\")\n",
    "    plt.title(\"Confusion Matrix\")\n",
    "    plt.xlabel(\"Predicted Class\")\n",
    "    plt.ylabel(\"Actual Class\")\n",
    "    handles = [plt.Rectangle((0, 0), 1, 1, color='blue', label=f'{key} = {value}') for key, value in legend_Classfication_labels.items()]\n",
    "    plt.legend(handles=handles, loc='upper right')\n",
    "\n",
    "    plt.show()\n",
    "\n"
   ]
  },
  {
   "cell_type": "code",
   "execution_count": 70,
   "id": "a19ac432",
   "metadata": {},
   "outputs": [
    {
     "name": "stdout",
     "output_type": "stream",
     "text": [
      "[[  110    42   215]\n",
      " [  668   344  3673]\n",
      " [ 2938   965 24111]]\n"
     ]
    },
    {
     "data": {
      "image/png": "[encoded data removed]",
      "text/plain": [
       "<Figure size 576x432 with 2 Axes>"
      ]
     },
     "metadata": {
      "needs_background": "light"
     },
     "output_type": "display_data"
    }
   ],
   "source": [
    "confusion_matrix_naive_bayes(Features, TargetVariable)\n"
   ]
  },
  {
   "cell_type": "markdown",
   "id": "9dbe57c0",
   "metadata": {},
   "source": [
    "# Results\n",
    "- there are 110 instances with \"Fatal\" that were correctly predicted, 42 instances with \"Fatal\" that were predicted as \"Serious\", and 215 instances with \"Fatal\" that were predicted as \"Slight\".\n",
    "\n",
    "- we can see that there are 334 instances with \"Serious\" that were correctly predicted , 668 instances with \"Serious\" that were predicted as \"Fatal\", and 3673 instances with true label 1 that were predicted as \"Slight\".\n",
    "\n",
    "- there are 24111 instances with \"Slight\" that were correctly predicted, 965 instances with \"Slight\" that were predicted as \"Serious\", and 2938 instances with \"Slight\" that were predicted as \"Fatal\"."
   ]
  },
  {
   "cell_type": "markdown",
   "id": "b8bdd09b",
   "metadata": {},
   "source": [
    "# Confusion Matrix -  Logistic Regression"
   ]
  },
  {
   "cell_type": "code",
   "execution_count": 75,
   "id": "ab9e36a5",
   "metadata": {},
   "outputs": [],
   "source": [
    "\n",
    "def confusion_matrix_logistic(Features, TargetVariable):\n",
    "   \n",
    "    # Split the dataset into training and testing sets\n",
    "    training_set_x, testing_set_x, training_set_y, testing_set_y = train_test_split(Features, TargetVariable, test_size=0.25, random_state=42)\n",
    "\n",
    "    # Initialize the Naive Bayes model\n",
    "    logistic = LogisticRegression()\n",
    "\n",
    "    # Train the Naive Bayes model\n",
    "    logistic.fit(training_set_x, training_set_y)\n",
    "\n",
    "    # Evaluate the Naive Bayes model on the test set\n",
    "    y_pred = logistic.predict(testing_set_x)\n",
    "\n",
    "    # Create the confusion matrix\n",
    "    confusion_mat = confusion_matrix(testing_set_y, y_pred)\n",
    "    print(confusion_mat)\n",
    "\n",
    "\n",
    "    # Visualize the confusion matrix\n",
    "    plt.figure(figsize=(8, 6))\n",
    "    legend_Classfication_labels = {\n",
    "    0: 'Fatal',\n",
    "    1: 'Serious',\n",
    "    2: 'Slight'\n",
    "    }\n",
    "    \n",
    "    sns.heatmap(confusion_mat, annot=True, cmap=\"Purples\", fmt=\"d\")\n",
    "    plt.title(\"Confusion Matrix\")\n",
    "    plt.xlabel(\"Predicted Class\")\n",
    "    plt.ylabel(\"Actual Class\")\n",
    "    handles = [plt.Rectangle((0, 0), 1, 1, color='blue', label=f'{key} = {value}') for key, value in legend_Classfication_labels.items()]\n",
    "    plt.legend(handles=handles, loc='upper right')\n",
    "    plt.show()\n",
    "\n"
   ]
  },
  {
   "cell_type": "code",
   "execution_count": 76,
   "id": "f75287d3",
   "metadata": {},
   "outputs": [
    {
     "name": "stdout",
     "output_type": "stream",
     "text": [
      "[[    0     0   367]\n",
      " [    0     0  4685]\n",
      " [    0     0 28014]]\n"
     ]
    },
    {
     "name": "stderr",
     "output_type": "stream",
     "text": [
      "C:\\ProgramData\\Anaconda3\\lib\\site-packages\\sklearn\\linear_model\\_logistic.py:814: ConvergenceWarning: lbfgs failed to converge (status=1):\n",
      "STOP: TOTAL NO. of ITERATIONS REACHED LIMIT.\n",
      "\n",
      "Increase the number of iterations (max_iter) or scale the data as shown in:\n",
      "    https://scikit-learn.org/stable/modules/preprocessing.html\n",
      "Please also refer to the documentation for alternative solver options:\n",
      "    https://scikit-learn.org/stable/modules/linear_model.html#logistic-regression\n",
      "  n_iter_i = _check_optimize_result(\n"
     ]
    },
    {
     "data": {
      "image/png": "[encoded data removed]",
      "text/plain": [
       "<Figure size 576x432 with 2 Axes>"
      ]
     },
     "metadata": {
      "needs_background": "light"
     },
     "output_type": "display_data"
    }
   ],
   "source": [
    "confusion_matrix_logistic(Features, TargetVariable)\n"
   ]
  },
  {
   "cell_type": "markdown",
   "id": "65cb2f3c",
   "metadata": {},
   "source": [
    "# Results\n",
    "- there are 0 instances with \"Fatal\" that were correctly predicted, 0 instances with \"Fatal\" that were predicted as \"Serious\", and 367 instances with \"Fatal\" that were predicted as \"Slight\".\n",
    "\n",
    "- we can see that there are 0 instances with \"Serious\" that were correctly predicted , 0 instances with \"Serious\" that were predicted as \"Fatal\", and 4685 instances with true label 1 that were predicted as \"Slight\".\n",
    "\n",
    "- there are 28014 instances with \"Slight\" that were correctly predicted, 0 instances with \"Slight\" that were predicted as \"Serious\", and 0 instances with \"Slight\" that were predicted as \"Fatal\"."
   ]
  },
  {
   "cell_type": "markdown",
   "id": "c6b85ca5",
   "metadata": {},
   "source": [
    "# Confusion Matrix - Neural  Network"
   ]
  },
  {
   "cell_type": "code",
   "execution_count": 78,
   "id": "2a128074",
   "metadata": {},
   "outputs": [],
   "source": [
    "\n",
    "def confusion_matrix_network(Features, TargetVariable):\n",
    "   \n",
    "    # Split the dataset into training and testing sets\n",
    "    training_set_x, testing_set_x, training_set_y, testing_set_y = train_test_split(Features, TargetVariable, test_size=0.25, random_state=42)\n",
    "\n",
    "    # Initialize the Naive Bayes model\n",
    "    network = MLPClassifier()\n",
    "\n",
    "    # Train the Naive Bayes model\n",
    "    network.fit(training_set_x, training_set_y)\n",
    "\n",
    "    # Evaluate the Naive Bayes model on the test set\n",
    "    y_pred = network.predict(testing_set_x)\n",
    "\n",
    "    # Create the confusion matrix\n",
    "    confusion_mat = confusion_matrix(testing_set_y, y_pred)\n",
    "    print(confusion_mat)\n",
    "\n",
    "\n",
    "    # Visualize the confusion matrix\n",
    "    plt.figure(figsize=(8, 6))\n",
    "    legend_Classfication_labels = {\n",
    "    0: 'Fatal',\n",
    "    1: 'Serious',\n",
    "    2: 'Slight'\n",
    "    }\n",
    "   \n",
    "\n",
    "    \n",
    "    sns.heatmap(confusion_mat, annot=True, cmap=\"Greens\", fmt=\"d\")\n",
    "    plt.title(\"Confusion Matrix\")\n",
    "    plt.xlabel(\"Predicted Class\")\n",
    "    plt.ylabel(\"Actual Class\")\n",
    "    handles = [plt.Rectangle((0, 0), 1, 1, color='blue', label=f'{key} = {value}') for key, value in legend_Classfication_labels.items()]\n",
    "    plt.legend(handles=handles, loc='upper right')\n",
    "    plt.show()\n",
    "\n"
   ]
  },
  {
   "cell_type": "code",
   "execution_count": 79,
   "id": "7158c254",
   "metadata": {},
   "outputs": [
    {
     "name": "stdout",
     "output_type": "stream",
     "text": [
      "[[    0     1   366]\n",
      " [    0    13  4672]\n",
      " [    1    34 27979]]\n"
     ]
    },
    {
     "data": {
      "image/png": "[encoded data removed]",
      "text/plain": [
       "<Figure size 576x432 with 2 Axes>"
      ]
     },
     "metadata": {
      "needs_background": "light"
     },
     "output_type": "display_data"
    }
   ],
   "source": [
    "confusion_matrix_network(Features, TargetVariable)\n"
   ]
  },
  {
   "cell_type": "markdown",
   "id": "f9a3ba6e",
   "metadata": {},
   "source": [
    "# Results\n",
    "- there are 0 instances with \"Fatal\" that were correctly predicted, 1 instances with \"Fatal\" that were predicted as \"Serious\", and 366 instances with \"Fatal\" that were predicted as \"Slight\".\n",
    "\n",
    "- we can see that there are 13 instances with \"Serious\" that were correctly predicted , 0 instances with \"Serious\" that were predicted as \"Fatal\", and 4672 instances with true label 1 that were predicted as \"Slight\".\n",
    "\n",
    "- there are 27979 instances with \"Slight\" that were correctly predicted, 34 instances with \"Slight\" that were predicted as \"Serious\", and 1 instances with \"Slight\" that were predicted as \"Fatal\"."
   ]
  },
  {
   "cell_type": "markdown",
   "id": "ac8798b4",
   "metadata": {},
   "source": [
    "-------------------------------------------------------------------------------------------------------------------------------"
   ]
  },
  {
   "cell_type": "markdown",
   "id": "3903016d",
   "metadata": {},
   "source": [
    "# ROC Curve - KNN"
   ]
  },
  {
   "cell_type": "code",
   "execution_count": 80,
   "id": "f9d319f1",
   "metadata": {},
   "outputs": [],
   "source": [
    "def plot_roc_curve_naive_knn(Features, TargetVariable):\n",
    "    # Split the data into training and test sets\n",
    "    training_set_x, testing_set_x, training_set_y, testing_set_y = train_test_split(Features, TargetVariable, test_size=0.2, random_state=42)\n",
    "\n",
    "    # Create a Naive Bayes classifier\n",
    "    knn = KNeighborsClassifier()\n",
    "\n",
    "    # Train the classifier\n",
    "    knn.fit(training_set_x, training_set_y)\n",
    "\n",
    "    # Predict probabilities for each class\n",
    "    y_scores = knn.predict_proba(testing_set_x)\n",
    "\n",
    "    # Binarize the target labels\n",
    "    testing_set_y_bin = label_binarize(testing_set_y, classes=np.unique(TargetVariable))\n",
    "    n_classes = testing_set_y_bin.shape[1]\n",
    "\n",
    "    # Compute the false positive rate (FPR), true positive rate (TPR), and thresholds for each class\n",
    "    fpr = dict()\n",
    "    tpr = dict()\n",
    "    roc_auc = dict()\n",
    "    for i in range(n_classes):\n",
    "        fpr[i], tpr[i], _ = roc_curve(testing_set_y_bin[:, i], y_scores[:, i])\n",
    "        roc_auc[i] = auc(fpr[i], tpr[i])\n",
    "\n",
    "    # Plot the ROC curves for each class\n",
    "    cmap = get_cmap('tab20')  # Choose a colormap that supports a larger number of classes\n",
    "    plt.figure()\n",
    "\n",
    "    for i in range(n_classes):\n",
    "        plt.plot(fpr[i], tpr[i], color=cmap(i), label='Class {} (area = {:0.2f})'.format(i, roc_auc[i]))\n",
    "\n",
    "    plt.plot([0, 1], [0, 1], 'k--')  # Plot the diagonal line\n",
    "    plt.xlim([0.0, 1.0])\n",
    "    plt.ylim([0.0, 1.05])\n",
    "    plt.xlabel('False Positive Rate')\n",
    "    plt.ylabel('True Positive Rate ')\n",
    "    plt.title('Receiver Operating Characteristic')\n",
    "    plt.legend(loc=\"lower right\")\n",
    "    plt.show()\n"
   ]
  },
  {
   "cell_type": "code",
   "execution_count": 81,
   "id": "6150821b",
   "metadata": {},
   "outputs": [
    {
     "data": {
      "image/png": "[encoded data removed]",
      "text/plain": [
       "<Figure size 432x288 with 1 Axes>"
      ]
     },
     "metadata": {
      "needs_background": "light"
     },
     "output_type": "display_data"
    }
   ],
   "source": [
    " plot_roc_curve_naive_knn(Features, TargetVariable)\n"
   ]
  },
  {
   "cell_type": "markdown",
   "id": "d500bdb4",
   "metadata": {},
   "source": [
    "# ROC Curve - Naive Bay"
   ]
  },
  {
   "cell_type": "code",
   "execution_count": 82,
   "id": "ba886730",
   "metadata": {},
   "outputs": [],
   "source": [
    "def plot_roc_curve_naive_bayes(Features, TargetVariable):\n",
    "    # Split the data into training and test sets\n",
    "    training_set_x, testing_set_x, training_set_y, testing_set_y = train_test_split(Features, TargetVariable, test_size=0.2, random_state=42)\n",
    "\n",
    "    # Create a Naive Bayes classifier\n",
    "    naive_bayes = GaussianNB()\n",
    "\n",
    "    # Train the classifier\n",
    "    naive_bayes.fit(training_set_x, training_set_y)\n",
    "\n",
    "    # Predict probabilities for each class\n",
    "    y_scores = naive_bayes.predict_proba(testing_set_x)\n",
    "\n",
    "    # Binarize the target labels\n",
    "    testing_set_y_bin = label_binarize(testing_set_y, classes=np.unique(TargetVariable))\n",
    "    n_classes = testing_set_y_bin.shape[1]\n",
    "\n",
    "    # Compute the false positive rate (FPR), true positive rate (TPR), and thresholds for each class\n",
    "    fpr = dict()\n",
    "    tpr = dict()\n",
    "    roc_auc = dict()\n",
    "    for i in range(n_classes):\n",
    "        fpr[i], tpr[i], _ = roc_curve(testing_set_y_bin[:, i], y_scores[:, i])\n",
    "        roc_auc[i] = auc(fpr[i], tpr[i])\n",
    "\n",
    "    # Plot the ROC curves for each class\n",
    "    cmap = get_cmap('tab20')  # Choose a colormap that supports a larger number of classes\n",
    "    plt.figure()\n",
    "\n",
    "    for i in range(n_classes):\n",
    "        plt.plot(fpr[i], tpr[i], color=cmap(i), label='Class {} (area = {:0.2f})'.format(i, roc_auc[i]))\n",
    "\n",
    "    plt.plot([0, 1], [0, 1], 'k--')  # Plot the diagonal line\n",
    "    plt.xlim([0.0, 1.0])\n",
    "    plt.ylim([0.0, 1.05])\n",
    "    plt.xlabel('False Positive Rate')\n",
    "    plt.ylabel('True Positive Rate ')\n",
    "    plt.title('Receiver Operating Characteristic')\n",
    "    plt.legend(loc=\"lower right\")\n",
    "    plt.show()\n"
   ]
  },
  {
   "cell_type": "code",
   "execution_count": 83,
   "id": "81d69a5d",
   "metadata": {},
   "outputs": [
    {
     "data": {
      "image/png": "[encoded data removed]",
      "text/plain": [
       "<Figure size 432x288 with 1 Axes>"
      ]
     },
     "metadata": {
      "needs_background": "light"
     },
     "output_type": "display_data"
    }
   ],
   "source": [
    " plot_roc_curve_naive_bayes(Features, TargetVariable)\n"
   ]
  },
  {
   "cell_type": "markdown",
   "id": "bbd4ede9",
   "metadata": {},
   "source": [
    "# ROC Curve - Logistic Regression\n"
   ]
  },
  {
   "cell_type": "code",
   "execution_count": 84,
   "id": "d949344f",
   "metadata": {},
   "outputs": [],
   "source": [
    "def plot_roc_curve_logistic(Features, TargetVariable):\n",
    "    # Split the data into training and test sets\n",
    "    training_set_x, testing_set_x, training_set_y, testing_set_y = train_test_split(Features, TargetVariable, test_size=0.2, random_state=42)\n",
    "\n",
    "    # Create a Naive Bayes classifier\n",
    "    logistic = LogisticRegression()\n",
    "\n",
    "    # Train the classifier\n",
    "    logistic.fit(training_set_x, training_set_y)\n",
    "\n",
    "    # Predict probabilities for each class\n",
    "    y_scores = logistic.predict_proba(testing_set_x)\n",
    "\n",
    "    # Binarize the target labels\n",
    "    testing_set_y_bin = label_binarize(testing_set_y, classes=np.unique(TargetVariable))\n",
    "    n_classes = testing_set_y_bin.shape[1]\n",
    "\n",
    "    # Compute the false positive rate (FPR), true positive rate (TPR), and thresholds for each class\n",
    "    fpr = dict()\n",
    "    tpr = dict()\n",
    "    roc_auc = dict()\n",
    "    for i in range(n_classes):\n",
    "        fpr[i], tpr[i], _ = roc_curve(testing_set_y_bin[:, i], y_scores[:, i])\n",
    "        roc_auc[i] = auc(fpr[i], tpr[i])\n",
    "\n",
    "    # Plot the ROC curves for each class\n",
    "    cmap = get_cmap('tab20')  # Choose a colormap that supports a larger number of classes\n",
    "    plt.figure()\n",
    "\n",
    "    for i in range(n_classes):\n",
    "        plt.plot(fpr[i], tpr[i], color=cmap(i), label='Class {} (area = {:0.2f})'.format(i, roc_auc[i]))\n",
    "\n",
    "    plt.plot([0, 1], [0, 1], 'k--')  # Plot the diagonal line\n",
    "    plt.xlim([0.0, 1.0])\n",
    "    plt.ylim([0.0, 1.05])\n",
    "    plt.xlabel('False Positive Rate')\n",
    "    plt.ylabel('True Positive Rate ')\n",
    "    plt.title('Receiver Operating Characteristic')\n",
    "    plt.legend(loc=\"lower right\")\n",
    "    plt.show()\n"
   ]
  },
  {
   "cell_type": "code",
   "execution_count": 85,
   "id": "545dd421",
   "metadata": {},
   "outputs": [
    {
     "name": "stderr",
     "output_type": "stream",
     "text": [
      "C:\\ProgramData\\Anaconda3\\lib\\site-packages\\sklearn\\linear_model\\_logistic.py:814: ConvergenceWarning: lbfgs failed to converge (status=1):\n",
      "STOP: TOTAL NO. of ITERATIONS REACHED LIMIT.\n",
      "\n",
      "Increase the number of iterations (max_iter) or scale the data as shown in:\n",
      "    https://scikit-learn.org/stable/modules/preprocessing.html\n",
      "Please also refer to the documentation for alternative solver options:\n",
      "    https://scikit-learn.org/stable/modules/linear_model.html#logistic-regression\n",
      "  n_iter_i = _check_optimize_result(\n"
     ]
    },
    {
     "data": {
      "image/png": "[encoded data removed]",
      "text/plain": [
       "<Figure size 432x288 with 1 Axes>"
      ]
     },
     "metadata": {
      "needs_background": "light"
     },
     "output_type": "display_data"
    }
   ],
   "source": [
    "plot_roc_curve_logistic(Features, TargetVariable)\n"
   ]
  },
  {
   "cell_type": "markdown",
   "id": "41672556",
   "metadata": {},
   "source": [
    "# ROC Curve - Neural Network"
   ]
  },
  {
   "cell_type": "code",
   "execution_count": 86,
   "id": "e5a13df8",
   "metadata": {},
   "outputs": [],
   "source": [
    "def plot_roc_curve_network(Features, TargetVariable):\n",
    "    # Split the data into training and test sets\n",
    "    training_set_x, testing_set_x, training_set_y, testing_set_y = train_test_split(Features, TargetVariable, test_size=0.2, random_state=42)\n",
    "\n",
    "    # Create a Naive Bayes classifier\n",
    "    network = MLPClassifier()\n",
    "\n",
    "    # Train the classifier\n",
    "    network.fit(training_set_x, training_set_y)\n",
    "\n",
    "    # Predict probabilities for each class\n",
    "    y_scores = network.predict_proba(testing_set_x)\n",
    "\n",
    "    # Binarize the target labels\n",
    "    testing_set_y_bin = label_binarize(testing_set_y, classes=np.unique(TargetVariable))\n",
    "    n_classes = testing_set_y_bin.shape[1]\n",
    "\n",
    "    # Compute the false positive rate (FPR), true positive rate (TPR), and thresholds for each class\n",
    "    fpr = dict()\n",
    "    tpr = dict()\n",
    "    roc_auc = dict()\n",
    "    for i in range(n_classes):\n",
    "        fpr[i], tpr[i], _ = roc_curve(testing_set_y_bin[:, i], y_scores[:, i])\n",
    "        roc_auc[i] = auc(fpr[i], tpr[i])\n",
    "\n",
    "    # Plot the ROC curves for each class\n",
    "    cmap = get_cmap('tab20')  # Choose a colormap that supports a larger number of classes\n",
    "    plt.figure()\n",
    "\n",
    "    for i in range(n_classes):\n",
    "        plt.plot(fpr[i], tpr[i], color=cmap(i), label='Class {} (area = {:0.2f})'.format(i, roc_auc[i]))\n",
    "\n",
    "    plt.plot([0, 1], [0, 1], 'k--')  # Plot the diagonal line\n",
    "    plt.xlim([0.0, 1.0])\n",
    "    plt.ylim([0.0, 1.05])\n",
    "    plt.xlabel('False Positive Rate')\n",
    "    plt.ylabel('True Positive Rate ')\n",
    "    plt.title('Receiver Operating Characteristic')\n",
    "    plt.legend(loc=\"lower right\")\n",
    "    plt.show()\n"
   ]
  },
  {
   "cell_type": "code",
   "execution_count": 87,
   "id": "24fbdeed",
   "metadata": {},
   "outputs": [
    {
     "data": {
      "image/png": "[encoded data removed]",
      "text/plain": [
       "<Figure size 432x288 with 1 Axes>"
      ]
     },
     "metadata": {
      "needs_background": "light"
     },
     "output_type": "display_data"
    }
   ],
   "source": [
    "plot_roc_curve_network(Features, TargetVariable)\n"
   ]
  },
  {
   "cell_type": "markdown",
   "id": "4bb635fb",
   "metadata": {},
   "source": [
    "## Results\n",
    "\n",
    "- KNN Area under the curve range from 0.55 - 0.57:\n",
    "The Area Under Curve rsuggests that KNN has limited ability to separate positive and negative instances effectively.It means that the KNN algorithm might not accurately represent the distribution of classifications or the level of difficulty of the classification problem properly, resulting in poor results.\n",
    "\n",
    "- Naive Bays Area under the curve range from 0.54 to 0.71:\n",
    "Naive Bayes achieves a moderate to good level of performance in terms of separating the classes.The varying AUC range indicates that the degree of separation between classes varies across different Naive Bayes evaluation circumstances. In rare circumstances, the classes may be highly separated, resulting in larger AUC values. In other circumstances, the classes may have more overlap, resulting in lower AUC values.\n",
    "\n",
    "- Logistic Regression Area under the curve range from 0.64 to 0.70:\n",
    "The relatively narrow AUC range shows that the discriminative effectiveness of Logistic Regression is reasonably consistent across many evaluation conditions. The fact that the AUC values are reasonably close to one another suggests that the classifier's performance is robust.\n",
    "\n",
    "- Neural Network Area under the curve range from 0.65 to 0.70:\n",
    "Performs considerably well in distinguishing between positive and negative instances.Shows best results\n",
    "\n"
   ]
  },
  {
   "cell_type": "markdown",
   "id": "aa6aa2a4",
   "metadata": {},
   "source": [
    "# Learning Curve "
   ]
  },
  {
   "cell_type": "code",
   "execution_count": 95,
   "id": "2a8bffdc",
   "metadata": {},
   "outputs": [],
   "source": [
    "def plot_learning_curves(Features, TargetVariable, model):\n",
    "    train_sizes, train_scores, test_scores = learning_curve(model, Features, TargetVariable, cv=2, scoring='neg_mean_squared_error', train_sizes=np.linspace(0.001, 1.0, 20))\n",
    "\n",
    "    train_scores_mean = -np.mean(train_scores, axis=1)\n",
    "    train_scores_std = np.std(train_scores, axis=1)\n",
    "    test_scores_mean = -np.mean(test_scores, axis=1)\n",
    "    test_scores_std = np.std(test_scores, axis=1)\n",
    "\n",
    "    plt.figure(figsize=(12, 8))\n",
    "    plt.plot(train_sizes, train_scores_mean, 'o-', color='r', label='Training Score')\n",
    "    plt.plot(train_sizes, test_scores_mean, 'o-', color='g', label='Cross-Validation Score')\n",
    "    plt.fill_between(train_sizes, train_scores_mean - train_scores_std, train_scores_mean + train_scores_std, alpha=0.2, color='r')\n",
    "    plt.fill_between(train_sizes, test_scores_mean - test_scores_std, test_scores_mean + test_scores_std, alpha=0.2, color='g')\n",
    "    plt.xlabel('Training Set Size')\n",
    "    plt.ylabel('Error')\n",
    "    plt.title('Learning Curves')\n",
    "    plt.legend(loc='best')\n",
    "    plt.grid(True)\n",
    "    plt.show()\n"
   ]
  },
  {
   "cell_type": "markdown",
   "id": "2ed22338",
   "metadata": {},
   "source": [
    "# Learning Curve - KNN"
   ]
  },
  {
   "cell_type": "code",
   "execution_count": null,
   "id": "e5f62d01",
   "metadata": {},
   "outputs": [],
   "source": [
    "#Convergence not reached. \n",
    "Best data size cannot be determined.\n",
    "model = KNeighborsClassifier()\n",
    "plot_learning_curves(Features, TargetVariable, model)"
   ]
  },
  {
   "cell_type": "markdown",
   "id": "a90219b4",
   "metadata": {},
   "source": [
    "# Learning Curve - Naive Bays"
   ]
  },
  {
   "cell_type": "code",
   "execution_count": 96,
   "id": "0c0e67ff",
   "metadata": {},
   "outputs": [
    {
     "data": {
      "image/png": "[encoded data removed]",
      "text/plain": [
       "<Figure size 864x576 with 1 Axes>"
      ]
     },
     "metadata": {
      "needs_background": "light"
     },
     "output_type": "display_data"
    }
   ],
   "source": [
    "model = GaussianNB()\n",
    "plot_learning_curves(Features, TargetVariable, model)"
   ]
  },
  {
   "cell_type": "markdown",
   "id": "01fdbb2c",
   "metadata": {},
   "source": [
    "# Learning Curve - logistic Regression"
   ]
  },
  {
   "cell_type": "code",
   "execution_count": 97,
   "id": "a5a35187",
   "metadata": {},
   "outputs": [
    {
     "name": "stderr",
     "output_type": "stream",
     "text": [
      "C:\\ProgramData\\Anaconda3\\lib\\site-packages\\sklearn\\linear_model\\_logistic.py:814: ConvergenceWarning: lbfgs failed to converge (status=1):\n",
      "STOP: TOTAL NO. of ITERATIONS REACHED LIMIT.\n",
      "\n",
      "Increase the number of iterations (max_iter) or scale the data as shown in:\n",
      "    https://scikit-learn.org/stable/modules/preprocessing.html\n",
      "Please also refer to the documentation for alternative solver options:\n",
      "    https://scikit-learn.org/stable/modules/linear_model.html#logistic-regression\n",
      "  n_iter_i = _check_optimize_result(\n",
      "C:\\ProgramData\\Anaconda3\\lib\\site-packages\\sklearn\\linear_model\\_logistic.py:814: ConvergenceWarning: lbfgs failed to converge (status=1):\n",
      "STOP: TOTAL NO. of ITERATIONS REACHED LIMIT.\n",
      "\n",
      "Increase the number of iterations (max_iter) or scale the data as shown in:\n",
      "    https://scikit-learn.org/stable/modules/preprocessing.html\n",
      "Please also refer to the documentation for alternative solver options:\n",
      "    https://scikit-learn.org/stable/modules/linear_model.html#logistic-regression\n",
      "  n_iter_i = _check_optimize_result(\n",
      "C:\\ProgramData\\Anaconda3\\lib\\site-packages\\sklearn\\linear_model\\_logistic.py:814: ConvergenceWarning: lbfgs failed to converge (status=1):\n",
      "STOP: TOTAL NO. of ITERATIONS REACHED LIMIT.\n",
      "\n",
      "Increase the number of iterations (max_iter) or scale the data as shown in:\n",
      "    https://scikit-learn.org/stable/modules/preprocessing.html\n",
      "Please also refer to the documentation for alternative solver options:\n",
      "    https://scikit-learn.org/stable/modules/linear_model.html#logistic-regression\n",
      "  n_iter_i = _check_optimize_result(\n",
      "C:\\ProgramData\\Anaconda3\\lib\\site-packages\\sklearn\\linear_model\\_logistic.py:814: ConvergenceWarning: lbfgs failed to converge (status=1):\n",
      "STOP: TOTAL NO. of ITERATIONS REACHED LIMIT.\n",
      "\n",
      "Increase the number of iterations (max_iter) or scale the data as shown in:\n",
      "    https://scikit-learn.org/stable/modules/preprocessing.html\n",
      "Please also refer to the documentation for alternative solver options:\n",
      "    https://scikit-learn.org/stable/modules/linear_model.html#logistic-regression\n",
      "  n_iter_i = _check_optimize_result(\n",
      "C:\\ProgramData\\Anaconda3\\lib\\site-packages\\sklearn\\linear_model\\_logistic.py:814: ConvergenceWarning: lbfgs failed to converge (status=1):\n",
      "STOP: TOTAL NO. of ITERATIONS REACHED LIMIT.\n",
      "\n",
      "Increase the number of iterations (max_iter) or scale the data as shown in:\n",
      "    https://scikit-learn.org/stable/modules/preprocessing.html\n",
      "Please also refer to the documentation for alternative solver options:\n",
      "    https://scikit-learn.org/stable/modules/linear_model.html#logistic-regression\n",
      "  n_iter_i = _check_optimize_result(\n",
      "C:\\ProgramData\\Anaconda3\\lib\\site-packages\\sklearn\\linear_model\\_logistic.py:814: ConvergenceWarning: lbfgs failed to converge (status=1):\n",
      "STOP: TOTAL NO. of ITERATIONS REACHED LIMIT.\n",
      "\n",
      "Increase the number of iterations (max_iter) or scale the data as shown in:\n",
      "    https://scikit-learn.org/stable/modules/preprocessing.html\n",
      "Please also refer to the documentation for alternative solver options:\n",
      "    https://scikit-learn.org/stable/modules/linear_model.html#logistic-regression\n",
      "  n_iter_i = _check_optimize_result(\n",
      "C:\\ProgramData\\Anaconda3\\lib\\site-packages\\sklearn\\linear_model\\_logistic.py:814: ConvergenceWarning: lbfgs failed to converge (status=1):\n",
      "STOP: TOTAL NO. of ITERATIONS REACHED LIMIT.\n",
      "\n",
      "Increase the number of iterations (max_iter) or scale the data as shown in:\n",
      "    https://scikit-learn.org/stable/modules/preprocessing.html\n",
      "Please also refer to the documentation for alternative solver options:\n",
      "    https://scikit-learn.org/stable/modules/linear_model.html#logistic-regression\n",
      "  n_iter_i = _check_optimize_result(\n",
      "C:\\ProgramData\\Anaconda3\\lib\\site-packages\\sklearn\\linear_model\\_logistic.py:814: ConvergenceWarning: lbfgs failed to converge (status=1):\n",
      "STOP: TOTAL NO. of ITERATIONS REACHED LIMIT.\n",
      "\n",
      "Increase the number of iterations (max_iter) or scale the data as shown in:\n",
      "    https://scikit-learn.org/stable/modules/preprocessing.html\n",
      "Please also refer to the documentation for alternative solver options:\n",
      "    https://scikit-learn.org/stable/modules/linear_model.html#logistic-regression\n",
      "  n_iter_i = _check_optimize_result(\n",
      "C:\\ProgramData\\Anaconda3\\lib\\site-packages\\sklearn\\linear_model\\_logistic.py:814: ConvergenceWarning: lbfgs failed to converge (status=1):\n",
      "STOP: TOTAL NO. of ITERATIONS REACHED LIMIT.\n",
      "\n",
      "Increase the number of iterations (max_iter) or scale the data as shown in:\n",
      "    https://scikit-learn.org/stable/modules/preprocessing.html\n",
      "Please also refer to the documentation for alternative solver options:\n",
      "    https://scikit-learn.org/stable/modules/linear_model.html#logistic-regression\n",
      "  n_iter_i = _check_optimize_result(\n",
      "C:\\ProgramData\\Anaconda3\\lib\\site-packages\\sklearn\\linear_model\\_logistic.py:814: ConvergenceWarning: lbfgs failed to converge (status=1):\n",
      "STOP: TOTAL NO. of ITERATIONS REACHED LIMIT.\n",
      "\n",
      "Increase the number of iterations (max_iter) or scale the data as shown in:\n",
      "    https://scikit-learn.org/stable/modules/preprocessing.html\n",
      "Please also refer to the documentation for alternative solver options:\n",
      "    https://scikit-learn.org/stable/modules/linear_model.html#logistic-regression\n",
      "  n_iter_i = _check_optimize_result(\n",
      "C:\\ProgramData\\Anaconda3\\lib\\site-packages\\sklearn\\linear_model\\_logistic.py:814: ConvergenceWarning: lbfgs failed to converge (status=1):\n",
      "STOP: TOTAL NO. of ITERATIONS REACHED LIMIT.\n",
      "\n",
      "Increase the number of iterations (max_iter) or scale the data as shown in:\n",
      "    https://scikit-learn.org/stable/modules/preprocessing.html\n",
      "Please also refer to the documentation for alternative solver options:\n",
      "    https://scikit-learn.org/stable/modules/linear_model.html#logistic-regression\n",
      "  n_iter_i = _check_optimize_result(\n",
      "C:\\ProgramData\\Anaconda3\\lib\\site-packages\\sklearn\\linear_model\\_logistic.py:814: ConvergenceWarning: lbfgs failed to converge (status=1):\n",
      "STOP: TOTAL NO. of ITERATIONS REACHED LIMIT.\n",
      "\n",
      "Increase the number of iterations (max_iter) or scale the data as shown in:\n",
      "    https://scikit-learn.org/stable/modules/preprocessing.html\n",
      "Please also refer to the documentation for alternative solver options:\n",
      "    https://scikit-learn.org/stable/modules/linear_model.html#logistic-regression\n",
      "  n_iter_i = _check_optimize_result(\n",
      "C:\\ProgramData\\Anaconda3\\lib\\site-packages\\sklearn\\linear_model\\_logistic.py:814: ConvergenceWarning: lbfgs failed to converge (status=1):\n",
      "STOP: TOTAL NO. of ITERATIONS REACHED LIMIT.\n",
      "\n",
      "Increase the number of iterations (max_iter) or scale the data as shown in:\n",
      "    https://scikit-learn.org/stable/modules/preprocessing.html\n",
      "Please also refer to the documentation for alternative solver options:\n",
      "    https://scikit-learn.org/stable/modules/linear_model.html#logistic-regression\n",
      "  n_iter_i = _check_optimize_result(\n",
      "C:\\ProgramData\\Anaconda3\\lib\\site-packages\\sklearn\\linear_model\\_logistic.py:814: ConvergenceWarning: lbfgs failed to converge (status=1):\n",
      "STOP: TOTAL NO. of ITERATIONS REACHED LIMIT.\n",
      "\n",
      "Increase the number of iterations (max_iter) or scale the data as shown in:\n",
      "    https://scikit-learn.org/stable/modules/preprocessing.html\n",
      "Please also refer to the documentation for alternative solver options:\n",
      "    https://scikit-learn.org/stable/modules/linear_model.html#logistic-regression\n",
      "  n_iter_i = _check_optimize_result(\n",
      "C:\\ProgramData\\Anaconda3\\lib\\site-packages\\sklearn\\linear_model\\_logistic.py:814: ConvergenceWarning: lbfgs failed to converge (status=1):\n",
      "STOP: TOTAL NO. of ITERATIONS REACHED LIMIT.\n",
      "\n",
      "Increase the number of iterations (max_iter) or scale the data as shown in:\n",
      "    https://scikit-learn.org/stable/modules/preprocessing.html\n",
      "Please also refer to the documentation for alternative solver options:\n",
      "    https://scikit-learn.org/stable/modules/linear_model.html#logistic-regression\n",
      "  n_iter_i = _check_optimize_result(\n",
      "C:\\ProgramData\\Anaconda3\\lib\\site-packages\\sklearn\\linear_model\\_logistic.py:814: ConvergenceWarning: lbfgs failed to converge (status=1):\n",
      "STOP: TOTAL NO. of ITERATIONS REACHED LIMIT.\n",
      "\n",
      "Increase the number of iterations (max_iter) or scale the data as shown in:\n",
      "    https://scikit-learn.org/stable/modules/preprocessing.html\n",
      "Please also refer to the documentation for alternative solver options:\n",
      "    https://scikit-learn.org/stable/modules/linear_model.html#logistic-regression\n",
      "  n_iter_i = _check_optimize_result(\n"
     ]
    },
    {
     "name": "stderr",
     "output_type": "stream",
     "text": [
      "C:\\ProgramData\\Anaconda3\\lib\\site-packages\\sklearn\\linear_model\\_logistic.py:814: ConvergenceWarning: lbfgs failed to converge (status=1):\n",
      "STOP: TOTAL NO. of ITERATIONS REACHED LIMIT.\n",
      "\n",
      "Increase the number of iterations (max_iter) or scale the data as shown in:\n",
      "    https://scikit-learn.org/stable/modules/preprocessing.html\n",
      "Please also refer to the documentation for alternative solver options:\n",
      "    https://scikit-learn.org/stable/modules/linear_model.html#logistic-regression\n",
      "  n_iter_i = _check_optimize_result(\n",
      "C:\\ProgramData\\Anaconda3\\lib\\site-packages\\sklearn\\linear_model\\_logistic.py:814: ConvergenceWarning: lbfgs failed to converge (status=1):\n",
      "STOP: TOTAL NO. of ITERATIONS REACHED LIMIT.\n",
      "\n",
      "Increase the number of iterations (max_iter) or scale the data as shown in:\n",
      "    https://scikit-learn.org/stable/modules/preprocessing.html\n",
      "Please also refer to the documentation for alternative solver options:\n",
      "    https://scikit-learn.org/stable/modules/linear_model.html#logistic-regression\n",
      "  n_iter_i = _check_optimize_result(\n",
      "C:\\ProgramData\\Anaconda3\\lib\\site-packages\\sklearn\\linear_model\\_logistic.py:814: ConvergenceWarning: lbfgs failed to converge (status=1):\n",
      "STOP: TOTAL NO. of ITERATIONS REACHED LIMIT.\n",
      "\n",
      "Increase the number of iterations (max_iter) or scale the data as shown in:\n",
      "    https://scikit-learn.org/stable/modules/preprocessing.html\n",
      "Please also refer to the documentation for alternative solver options:\n",
      "    https://scikit-learn.org/stable/modules/linear_model.html#logistic-regression\n",
      "  n_iter_i = _check_optimize_result(\n",
      "C:\\ProgramData\\Anaconda3\\lib\\site-packages\\sklearn\\linear_model\\_logistic.py:814: ConvergenceWarning: lbfgs failed to converge (status=1):\n",
      "STOP: TOTAL NO. of ITERATIONS REACHED LIMIT.\n",
      "\n",
      "Increase the number of iterations (max_iter) or scale the data as shown in:\n",
      "    https://scikit-learn.org/stable/modules/preprocessing.html\n",
      "Please also refer to the documentation for alternative solver options:\n",
      "    https://scikit-learn.org/stable/modules/linear_model.html#logistic-regression\n",
      "  n_iter_i = _check_optimize_result(\n",
      "C:\\ProgramData\\Anaconda3\\lib\\site-packages\\sklearn\\linear_model\\_logistic.py:814: ConvergenceWarning: lbfgs failed to converge (status=1):\n",
      "STOP: TOTAL NO. of ITERATIONS REACHED LIMIT.\n",
      "\n",
      "Increase the number of iterations (max_iter) or scale the data as shown in:\n",
      "    https://scikit-learn.org/stable/modules/preprocessing.html\n",
      "Please also refer to the documentation for alternative solver options:\n",
      "    https://scikit-learn.org/stable/modules/linear_model.html#logistic-regression\n",
      "  n_iter_i = _check_optimize_result(\n",
      "C:\\ProgramData\\Anaconda3\\lib\\site-packages\\sklearn\\linear_model\\_logistic.py:814: ConvergenceWarning: lbfgs failed to converge (status=1):\n",
      "STOP: TOTAL NO. of ITERATIONS REACHED LIMIT.\n",
      "\n",
      "Increase the number of iterations (max_iter) or scale the data as shown in:\n",
      "    https://scikit-learn.org/stable/modules/preprocessing.html\n",
      "Please also refer to the documentation for alternative solver options:\n",
      "    https://scikit-learn.org/stable/modules/linear_model.html#logistic-regression\n",
      "  n_iter_i = _check_optimize_result(\n",
      "C:\\ProgramData\\Anaconda3\\lib\\site-packages\\sklearn\\linear_model\\_logistic.py:814: ConvergenceWarning: lbfgs failed to converge (status=1):\n",
      "STOP: TOTAL NO. of ITERATIONS REACHED LIMIT.\n",
      "\n",
      "Increase the number of iterations (max_iter) or scale the data as shown in:\n",
      "    https://scikit-learn.org/stable/modules/preprocessing.html\n",
      "Please also refer to the documentation for alternative solver options:\n",
      "    https://scikit-learn.org/stable/modules/linear_model.html#logistic-regression\n",
      "  n_iter_i = _check_optimize_result(\n",
      "C:\\ProgramData\\Anaconda3\\lib\\site-packages\\sklearn\\linear_model\\_logistic.py:814: ConvergenceWarning: lbfgs failed to converge (status=1):\n",
      "STOP: TOTAL NO. of ITERATIONS REACHED LIMIT.\n",
      "\n",
      "Increase the number of iterations (max_iter) or scale the data as shown in:\n",
      "    https://scikit-learn.org/stable/modules/preprocessing.html\n",
      "Please also refer to the documentation for alternative solver options:\n",
      "    https://scikit-learn.org/stable/modules/linear_model.html#logistic-regression\n",
      "  n_iter_i = _check_optimize_result(\n",
      "C:\\ProgramData\\Anaconda3\\lib\\site-packages\\sklearn\\linear_model\\_logistic.py:814: ConvergenceWarning: lbfgs failed to converge (status=1):\n",
      "STOP: TOTAL NO. of ITERATIONS REACHED LIMIT.\n",
      "\n",
      "Increase the number of iterations (max_iter) or scale the data as shown in:\n",
      "    https://scikit-learn.org/stable/modules/preprocessing.html\n",
      "Please also refer to the documentation for alternative solver options:\n",
      "    https://scikit-learn.org/stable/modules/linear_model.html#logistic-regression\n",
      "  n_iter_i = _check_optimize_result(\n",
      "C:\\ProgramData\\Anaconda3\\lib\\site-packages\\sklearn\\linear_model\\_logistic.py:814: ConvergenceWarning: lbfgs failed to converge (status=1):\n",
      "STOP: TOTAL NO. of ITERATIONS REACHED LIMIT.\n",
      "\n",
      "Increase the number of iterations (max_iter) or scale the data as shown in:\n",
      "    https://scikit-learn.org/stable/modules/preprocessing.html\n",
      "Please also refer to the documentation for alternative solver options:\n",
      "    https://scikit-learn.org/stable/modules/linear_model.html#logistic-regression\n",
      "  n_iter_i = _check_optimize_result(\n",
      "C:\\ProgramData\\Anaconda3\\lib\\site-packages\\sklearn\\linear_model\\_logistic.py:814: ConvergenceWarning: lbfgs failed to converge (status=1):\n",
      "STOP: TOTAL NO. of ITERATIONS REACHED LIMIT.\n",
      "\n",
      "Increase the number of iterations (max_iter) or scale the data as shown in:\n",
      "    https://scikit-learn.org/stable/modules/preprocessing.html\n",
      "Please also refer to the documentation for alternative solver options:\n",
      "    https://scikit-learn.org/stable/modules/linear_model.html#logistic-regression\n",
      "  n_iter_i = _check_optimize_result(\n",
      "C:\\ProgramData\\Anaconda3\\lib\\site-packages\\sklearn\\linear_model\\_logistic.py:814: ConvergenceWarning: lbfgs failed to converge (status=1):\n",
      "STOP: TOTAL NO. of ITERATIONS REACHED LIMIT.\n",
      "\n",
      "Increase the number of iterations (max_iter) or scale the data as shown in:\n",
      "    https://scikit-learn.org/stable/modules/preprocessing.html\n",
      "Please also refer to the documentation for alternative solver options:\n",
      "    https://scikit-learn.org/stable/modules/linear_model.html#logistic-regression\n",
      "  n_iter_i = _check_optimize_result(\n",
      "C:\\ProgramData\\Anaconda3\\lib\\site-packages\\sklearn\\linear_model\\_logistic.py:814: ConvergenceWarning: lbfgs failed to converge (status=1):\n",
      "STOP: TOTAL NO. of ITERATIONS REACHED LIMIT.\n",
      "\n",
      "Increase the number of iterations (max_iter) or scale the data as shown in:\n",
      "    https://scikit-learn.org/stable/modules/preprocessing.html\n",
      "Please also refer to the documentation for alternative solver options:\n",
      "    https://scikit-learn.org/stable/modules/linear_model.html#logistic-regression\n",
      "  n_iter_i = _check_optimize_result(\n",
      "C:\\ProgramData\\Anaconda3\\lib\\site-packages\\sklearn\\linear_model\\_logistic.py:814: ConvergenceWarning: lbfgs failed to converge (status=1):\n",
      "STOP: TOTAL NO. of ITERATIONS REACHED LIMIT.\n",
      "\n",
      "Increase the number of iterations (max_iter) or scale the data as shown in:\n",
      "    https://scikit-learn.org/stable/modules/preprocessing.html\n",
      "Please also refer to the documentation for alternative solver options:\n",
      "    https://scikit-learn.org/stable/modules/linear_model.html#logistic-regression\n",
      "  n_iter_i = _check_optimize_result(\n",
      "C:\\ProgramData\\Anaconda3\\lib\\site-packages\\sklearn\\linear_model\\_logistic.py:814: ConvergenceWarning: lbfgs failed to converge (status=1):\n",
      "STOP: TOTAL NO. of ITERATIONS REACHED LIMIT.\n",
      "\n",
      "Increase the number of iterations (max_iter) or scale the data as shown in:\n",
      "    https://scikit-learn.org/stable/modules/preprocessing.html\n",
      "Please also refer to the documentation for alternative solver options:\n",
      "    https://scikit-learn.org/stable/modules/linear_model.html#logistic-regression\n",
      "  n_iter_i = _check_optimize_result(\n",
      "C:\\ProgramData\\Anaconda3\\lib\\site-packages\\sklearn\\linear_model\\_logistic.py:814: ConvergenceWarning: lbfgs failed to converge (status=1):\n",
      "STOP: TOTAL NO. of ITERATIONS REACHED LIMIT.\n",
      "\n",
      "Increase the number of iterations (max_iter) or scale the data as shown in:\n",
      "    https://scikit-learn.org/stable/modules/preprocessing.html\n",
      "Please also refer to the documentation for alternative solver options:\n",
      "    https://scikit-learn.org/stable/modules/linear_model.html#logistic-regression\n",
      "  n_iter_i = _check_optimize_result(\n"
     ]
    },
    {
     "name": "stderr",
     "output_type": "stream",
     "text": [
      "C:\\ProgramData\\Anaconda3\\lib\\site-packages\\sklearn\\linear_model\\_logistic.py:814: ConvergenceWarning: lbfgs failed to converge (status=1):\n",
      "STOP: TOTAL NO. of ITERATIONS REACHED LIMIT.\n",
      "\n",
      "Increase the number of iterations (max_iter) or scale the data as shown in:\n",
      "    https://scikit-learn.org/stable/modules/preprocessing.html\n",
      "Please also refer to the documentation for alternative solver options:\n",
      "    https://scikit-learn.org/stable/modules/linear_model.html#logistic-regression\n",
      "  n_iter_i = _check_optimize_result(\n",
      "C:\\ProgramData\\Anaconda3\\lib\\site-packages\\sklearn\\linear_model\\_logistic.py:814: ConvergenceWarning: lbfgs failed to converge (status=1):\n",
      "STOP: TOTAL NO. of ITERATIONS REACHED LIMIT.\n",
      "\n",
      "Increase the number of iterations (max_iter) or scale the data as shown in:\n",
      "    https://scikit-learn.org/stable/modules/preprocessing.html\n",
      "Please also refer to the documentation for alternative solver options:\n",
      "    https://scikit-learn.org/stable/modules/linear_model.html#logistic-regression\n",
      "  n_iter_i = _check_optimize_result(\n",
      "C:\\ProgramData\\Anaconda3\\lib\\site-packages\\sklearn\\linear_model\\_logistic.py:814: ConvergenceWarning: lbfgs failed to converge (status=1):\n",
      "STOP: TOTAL NO. of ITERATIONS REACHED LIMIT.\n",
      "\n",
      "Increase the number of iterations (max_iter) or scale the data as shown in:\n",
      "    https://scikit-learn.org/stable/modules/preprocessing.html\n",
      "Please also refer to the documentation for alternative solver options:\n",
      "    https://scikit-learn.org/stable/modules/linear_model.html#logistic-regression\n",
      "  n_iter_i = _check_optimize_result(\n",
      "C:\\ProgramData\\Anaconda3\\lib\\site-packages\\sklearn\\linear_model\\_logistic.py:814: ConvergenceWarning: lbfgs failed to converge (status=1):\n",
      "STOP: TOTAL NO. of ITERATIONS REACHED LIMIT.\n",
      "\n",
      "Increase the number of iterations (max_iter) or scale the data as shown in:\n",
      "    https://scikit-learn.org/stable/modules/preprocessing.html\n",
      "Please also refer to the documentation for alternative solver options:\n",
      "    https://scikit-learn.org/stable/modules/linear_model.html#logistic-regression\n",
      "  n_iter_i = _check_optimize_result(\n",
      "C:\\ProgramData\\Anaconda3\\lib\\site-packages\\sklearn\\linear_model\\_logistic.py:814: ConvergenceWarning: lbfgs failed to converge (status=1):\n",
      "STOP: TOTAL NO. of ITERATIONS REACHED LIMIT.\n",
      "\n",
      "Increase the number of iterations (max_iter) or scale the data as shown in:\n",
      "    https://scikit-learn.org/stable/modules/preprocessing.html\n",
      "Please also refer to the documentation for alternative solver options:\n",
      "    https://scikit-learn.org/stable/modules/linear_model.html#logistic-regression\n",
      "  n_iter_i = _check_optimize_result(\n"
     ]
    },
    {
     "data": {
      "image/png": "[encoded data removed]",
      "text/plain": [
       "<Figure size 864x576 with 1 Axes>"
      ]
     },
     "metadata": {
      "needs_background": "light"
     },
     "output_type": "display_data"
    }
   ],
   "source": [
    "model = LogisticRegression()\n",
    "plot_learning_curves(Features, TargetVariable, model)"
   ]
  },
  {
   "cell_type": "markdown",
   "id": "de381008",
   "metadata": {},
   "source": [
    "# Learning Curve - Neural Network"
   ]
  },
  {
   "cell_type": "code",
   "execution_count": 94,
   "id": "8251d881",
   "metadata": {},
   "outputs": [
    {
     "name": "stderr",
     "output_type": "stream",
     "text": [
      "C:\\ProgramData\\Anaconda3\\lib\\site-packages\\sklearn\\neural_network\\_multilayer_perceptron.py:692: ConvergenceWarning: Stochastic Optimizer: Maximum iterations (200) reached and the optimization hasn't converged yet.\n",
      "  warnings.warn(\n",
      "C:\\ProgramData\\Anaconda3\\lib\\site-packages\\sklearn\\neural_network\\_multilayer_perceptron.py:699: UserWarning: Training interrupted by user.\n",
      "  warnings.warn(\"Training interrupted by user.\")\n",
      "C:\\ProgramData\\Anaconda3\\lib\\site-packages\\sklearn\\neural_network\\_multilayer_perceptron.py:699: UserWarning: Training interrupted by user.\n",
      "  warnings.warn(\"Training interrupted by user.\")\n",
      "C:\\ProgramData\\Anaconda3\\lib\\site-packages\\sklearn\\neural_network\\_multilayer_perceptron.py:699: UserWarning: Training interrupted by user.\n",
      "  warnings.warn(\"Training interrupted by user.\")\n",
      "C:\\ProgramData\\Anaconda3\\lib\\site-packages\\sklearn\\neural_network\\_multilayer_perceptron.py:699: UserWarning: Training interrupted by user.\n",
      "  warnings.warn(\"Training interrupted by user.\")\n",
      "C:\\ProgramData\\Anaconda3\\lib\\site-packages\\sklearn\\neural_network\\_multilayer_perceptron.py:699: UserWarning: Training interrupted by user.\n",
      "  warnings.warn(\"Training interrupted by user.\")\n",
      "\n",
      "KeyboardInterrupt\n",
      "\n"
     ]
    }
   ],
   "source": [
    "# Convergence not reached.\n",
    "Best data size cannot be determined.\n",
    "model = MLPClassifier()\n",
    "plot_learning_curves(Features, TargetVariable, model)"
   ]
  },
  {
   "cell_type": "markdown",
   "id": "46d55751",
   "metadata": {},
   "source": [
    "# Regression\n",
    "Among the classifiers you mentioned (KNN, Naive Bayes, Logistic Regression, Neural Networks), the ones that commonly support regularization are Logistic Regression and Neural Networks. Regularization techniques are often applied in these models to prevent overfitting and improve generalization.\n",
    "\n"
   ]
  },
  {
   "cell_type": "code",
   "execution_count": 13,
   "id": "7df695d0",
   "metadata": {},
   "outputs": [],
   "source": [
    "def logistic_regression_with_regularization(Features, TargetVariabley, lambda_values):\n",
    "    # Split the data into training and testing sets\n",
    "    X_train, X_test, y_train, y_test = train_test_split(Features, TargetVariable, test_size=0.2, random_state=42)\n",
    "\n",
    "    # Standardize the features\n",
    "    scaler = StandardScaler()\n",
    "    X_train_scaled = scaler.fit_transform(X_train)\n",
    "    X_test_scaled = scaler.transform(X_test)\n",
    "\n",
    "    for lambda_val in lambda_values:\n",
    "        # Create and train the logistic regression model with different lambda values\n",
    "        C = 1 / lambda_val\n",
    "        logistic_regression = LogisticRegression(penalty='l2', C=C)\n",
    "        logistic_regression.fit(X_train_scaled, y_train)\n",
    "\n",
    "        # Evaluate the model on the test set\n",
    "        y_pred = logistic_regression.predict(X_test_scaled)\n",
    "        accuracy = accuracy_score(y_test, y_pred)\n",
    "        print(f\"Lambda: {lambda_val}, Accuracy: {accuracy}\")\n"
   ]
  },
  {
   "cell_type": "code",
   "execution_count": 14,
   "id": "d84a4040",
   "metadata": {},
   "outputs": [
    {
     "name": "stdout",
     "output_type": "stream",
     "text": [
      "Lambda: 0.01, Accuracy: 0.8482969795486335\n",
      "Lambda: 0.02, Accuracy: 0.8482969795486335\n",
      "Lambda: 0.04, Accuracy: 0.8482969795486335\n",
      "Lambda: 0.08, Accuracy: 0.8482969795486335\n",
      "Lambda: 0.16, Accuracy: 0.8482969795486335\n",
      "Lambda: 0.32, Accuracy: 0.8482969795486335\n",
      "Lambda: 0.64, Accuracy: 0.8482969795486335\n",
      "Lambda: 1.28, Accuracy: 0.8482969795486335\n",
      "Lambda: 2.56, Accuracy: 0.8482969795486335\n",
      "Lambda: 5.12, Accuracy: 0.8482969795486335\n",
      "Lambda: 10.24, Accuracy: 0.8482969795486335\n"
     ]
    }
   ],
   "source": [
    "lambda_values = [0.01, 0.02, 0.04, 0.08, 0.16, 0.32, 0.64, 1.28, 2.56, 5.12, 10.24]\n",
    "\n",
    "logistic_regression_with_regularization(Features,TargetVariable,lambda_values)\n"
   ]
  },
  {
   "cell_type": "markdown",
   "id": "f702409d",
   "metadata": {},
   "source": [
    "- It seems that all the lambda values you used in the logistic regression model resulted in the same accuracy of 0.8482969795486335. This could indicate that the regularization parameter (lambda) is not having a significant impact on the model's performance in this case.\n"
   ]
  },
  {
   "cell_type": "code",
   "execution_count": 20,
   "id": "8e09eafe",
   "metadata": {},
   "outputs": [],
   "source": [
    "def neural_network_with_regularization(X, y, lambda_values):\n",
    "    # Split the data into training and testing sets\n",
    "    X_train, X_test, y_train, y_test = train_test_split(X, y, test_size=0.2, random_state=42)\n",
    "\n",
    "    # Standardize the features\n",
    "    scaler = StandardScaler()\n",
    "    X_train_scaled = scaler.fit_transform(X_train)\n",
    "    X_test_scaled = scaler.transform(X_test)\n",
    "\n",
    "    for lambda_val in lambda_values:\n",
    "        # Create a neural network model with regularization\n",
    "        mlp = MLPClassifier(hidden_layer_sizes=(64, 64),\n",
    "                            activation='relu',\n",
    "                            solver='adam',\n",
    "                            alpha=lambda_val,\n",
    "                            random_state=42)\n",
    "\n",
    "        # Train the model\n",
    "        mlp.fit(X_train_scaled, y_train)\n",
    "\n",
    "        # Evaluate the model on the test set\n",
    "        accuracy = mlp.score(X_test_scaled, y_test)\n",
    "        print(f\"Lambda: {lambda_val}, Test Accuracy: {accuracy}\")\n",
    "\n"
   ]
  },
  {
   "cell_type": "code",
   "execution_count": 21,
   "id": "8de783c8",
   "metadata": {},
   "outputs": [
    {
     "name": "stdout",
     "output_type": "stream",
     "text": [
      "Lambda: 0.01, Test Accuracy: 0.8424753336105546\n",
      "Lambda: 0.02, Test Accuracy: 0.8466714550334555\n",
      "Lambda: 0.04, Test Accuracy: 0.8483347824443352\n",
      "Lambda: 0.08, Test Accuracy: 0.8482969795486335\n",
      "Lambda: 0.16, Test Accuracy: 0.8482969795486335\n",
      "Lambda: 0.32, Test Accuracy: 0.8482969795486335\n",
      "Lambda: 0.64, Test Accuracy: 0.8482969795486335\n",
      "Lambda: 1.28, Test Accuracy: 0.8482969795486335\n",
      "Lambda: 2.56, Test Accuracy: 0.8482969795486335\n",
      "Lambda: 5.12, Test Accuracy: 0.8482969795486335\n",
      "Lambda: 10.24, Test Accuracy: 0.8482969795486335\n"
     ]
    }
   ],
   "source": [
    "lambda_values = [0.01, 0.02, 0.04, 0.08, 0.16, 0.32, 0.64, 1.28, 2.56, 5.12, 10.24]\n",
    "\n",
    "neural_network_with_regularization(Features,TargetVariable,lambda_values)\n"
   ]
  },
  {
   "cell_type": "markdown",
   "id": "725a5d9b",
   "metadata": {},
   "source": [
    "- Accurcy results has increased from 73% to 85% . Applying regularization techniques to your neural network model can help prevent overfitting and improve generalization performance.Regularization can be particularly effective when you have a complex neural network architecture or limited training data. It helps to control the model's complexity and prevents it from memorizing the training examples too closely."
   ]
  },
  {
   "cell_type": "code",
   "execution_count": null,
   "id": "ed071a3b",
   "metadata": {},
   "outputs": [],
   "source": []
  }
 ],
 "metadata": {
  "kernelspec": {
   "display_name": "Python 3 (ipykernel)",
   "language": "python",
   "name": "python3"
  },
  "language_info": {
   "codemirror_mode": {
    "name": "ipython",
    "version": 3
   },
   "file_extension": ".py",
   "mimetype": "text/x-python",
   "name": "python",
   "nbconvert_exporter": "python",
   "pygments_lexer": "ipython3",
   "version": "3.9.12"
  }
 },
 "nbformat": 4,
 "nbformat_minor": 5
}
